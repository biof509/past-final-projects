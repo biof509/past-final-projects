{
 "cells": [
  {
   "cell_type": "markdown",
   "metadata": {
    "colab": {},
    "colab_type": "code",
    "id": "4W6u3NVuvQSA"
   },
   "source": [
    "___Predicting macrophage inflammatory activation from upstream signaling events___\n",
    "\n",
    "Data from my collaborators in the Signaling Systems Section of the Laboratory of Immune System Biology, NIAID, supports a connection between the signaling protein IRAK1 and the NLRP3 inflammasome, which is a key source of pro-inflammatory cytokines in many inflammatory diseases. However, the nature of that connection is not yet clear.\n",
    "\n",
    "Therefore, this project aims to use machine learning methods to determine whether the pattern of IRAK1 in cells that have been stimulated with inflammasome-activating chemicals can predict which cells will go on to have active NLRP3 inflammasomes (as indicated by the presence of specks of ASC, a protein involved in the NLRP3 inflammasome). The data in this project is live imaging data collected on our lab's high content imager, which automatically detects clusters of fluorescently-tagged IRAK1 and ASC in cells.\n",
    "\n",
    "My approach will be to use classification algorithms to see if the time-series data of IRAK1 clusters can predict whether a cell will, at a later time point, show an ASC speck."
   ]
  },
  {
   "cell_type": "code",
   "execution_count": 23,
   "metadata": {
    "colab": {},
    "colab_type": "code",
    "id": "4W6u3NVuvQSA"
   },
   "outputs": [
    {
     "name": "stdout",
     "output_type": "stream",
     "text": [
      "Requirement already satisfied: tsfresh in c:\\users\\jliang\\anaconda3\\lib\\site-packages (0.11.2)\n",
      "Requirement already satisfied: six>=1.10.0 in c:\\users\\jliang\\anaconda3\\lib\\site-packages (from tsfresh) (1.12.0)\n",
      "Requirement already satisfied: numpy>=1.10.4 in c:\\users\\jliang\\anaconda3\\lib\\site-packages (from tsfresh) (1.16.2)\n",
      "Requirement already satisfied: pandas<=0.23.4,>=0.20.3 in c:\\users\\jliang\\anaconda3\\lib\\site-packages (from tsfresh) (0.23.4)\n",
      "Requirement already satisfied: statsmodels>=0.8.0 in c:\\users\\jliang\\anaconda3\\lib\\site-packages (from tsfresh) (0.9.0)\n",
      "Requirement already satisfied: patsy>=0.4.1 in c:\\users\\jliang\\anaconda3\\lib\\site-packages (from tsfresh) (0.5.1)\n",
      "Requirement already satisfied: requests>=2.9.1 in c:\\users\\jliang\\anaconda3\\lib\\site-packages (from tsfresh) (2.21.0)\n",
      "Requirement already satisfied: future>=0.16.0 in c:\\users\\jliang\\anaconda3\\lib\\site-packages (from tsfresh) (0.17.1)\n",
      "Requirement already satisfied: tqdm>=4.10.0 in c:\\users\\jliang\\anaconda3\\lib\\site-packages (from tsfresh) (4.31.1)\n",
      "Requirement already satisfied: scikit-learn>=0.19.0 in c:\\users\\jliang\\anaconda3\\lib\\site-packages (from tsfresh) (0.20.3)\n",
      "Requirement already satisfied: scipy>=0.17.0 in c:\\users\\jliang\\anaconda3\\lib\\site-packages (from tsfresh) (1.2.1)\n",
      "Requirement already satisfied: dask>=0.15.2 in c:\\users\\jliang\\anaconda3\\lib\\site-packages (from tsfresh) (1.1.4)\n",
      "Requirement already satisfied: distributed>=1.18.3 in c:\\users\\jliang\\anaconda3\\lib\\site-packages (from tsfresh) (1.26.0)\n",
      "Requirement already satisfied: python-dateutil>=2.5.0 in c:\\users\\jliang\\anaconda3\\lib\\site-packages (from pandas<=0.23.4,>=0.20.3->tsfresh) (2.8.0)\n",
      "Requirement already satisfied: pytz>=2011k in c:\\users\\jliang\\anaconda3\\lib\\site-packages (from pandas<=0.23.4,>=0.20.3->tsfresh) (2018.9)\n",
      "Requirement already satisfied: chardet<3.1.0,>=3.0.2 in c:\\users\\jliang\\anaconda3\\lib\\site-packages (from requests>=2.9.1->tsfresh) (3.0.4)\n",
      "Requirement already satisfied: idna<2.9,>=2.5 in c:\\users\\jliang\\anaconda3\\lib\\site-packages (from requests>=2.9.1->tsfresh) (2.8)\n",
      "Requirement already satisfied: urllib3<1.25,>=1.21.1 in c:\\users\\jliang\\anaconda3\\lib\\site-packages (from requests>=2.9.1->tsfresh) (1.24.1)\n",
      "Requirement already satisfied: certifi>=2017.4.17 in c:\\users\\jliang\\anaconda3\\lib\\site-packages (from requests>=2.9.1->tsfresh) (2019.3.9)\n",
      "Requirement already satisfied: click>=6.6 in c:\\users\\jliang\\anaconda3\\lib\\site-packages (from distributed>=1.18.3->tsfresh) (7.0)\n",
      "Requirement already satisfied: cloudpickle>=0.2.2 in c:\\users\\jliang\\anaconda3\\lib\\site-packages (from distributed>=1.18.3->tsfresh) (0.8.0)\n",
      "Requirement already satisfied: msgpack in c:\\users\\jliang\\anaconda3\\lib\\site-packages (from distributed>=1.18.3->tsfresh) (0.6.1)\n",
      "Requirement already satisfied: psutil>=5.0 in c:\\users\\jliang\\anaconda3\\lib\\site-packages (from distributed>=1.18.3->tsfresh) (5.6.1)\n",
      "Requirement already satisfied: sortedcontainers!=2.0.0,!=2.0.1 in c:\\users\\jliang\\anaconda3\\lib\\site-packages (from distributed>=1.18.3->tsfresh) (2.1.0)\n",
      "Requirement already satisfied: tblib in c:\\users\\jliang\\anaconda3\\lib\\site-packages (from distributed>=1.18.3->tsfresh) (1.3.2)\n",
      "Requirement already satisfied: toolz>=0.7.4 in c:\\users\\jliang\\anaconda3\\lib\\site-packages (from distributed>=1.18.3->tsfresh) (0.9.0)\n",
      "Requirement already satisfied: tornado>=5 in c:\\users\\jliang\\anaconda3\\lib\\site-packages (from distributed>=1.18.3->tsfresh) (6.0.1)\n",
      "Requirement already satisfied: zict>=0.1.3 in c:\\users\\jliang\\anaconda3\\lib\\site-packages (from distributed>=1.18.3->tsfresh) (0.1.4)\n",
      "Requirement already satisfied: pyyaml in c:\\users\\jliang\\anaconda3\\lib\\site-packages (from distributed>=1.18.3->tsfresh) (5.1)\n",
      "Requirement already satisfied: heapdict in c:\\users\\jliang\\anaconda3\\lib\\site-packages (from zict>=0.1.3->distributed>=1.18.3->tsfresh) (1.0.0)\n",
      "Requirement already satisfied: imblearn in c:\\users\\jliang\\anaconda3\\lib\\site-packages (0.0)\n",
      "Requirement already satisfied: imbalanced-learn in c:\\users\\jliang\\anaconda3\\lib\\site-packages (from imblearn) (0.4.3)\n",
      "Requirement already satisfied: scikit-learn>=0.20 in c:\\users\\jliang\\anaconda3\\lib\\site-packages (from imbalanced-learn->imblearn) (0.20.3)\n",
      "Requirement already satisfied: numpy>=1.8.2 in c:\\users\\jliang\\anaconda3\\lib\\site-packages (from imbalanced-learn->imblearn) (1.16.2)\n",
      "Requirement already satisfied: scipy>=0.13.3 in c:\\users\\jliang\\anaconda3\\lib\\site-packages (from imbalanced-learn->imblearn) (1.2.1)\n"
     ]
    }
   ],
   "source": [
    "!pip install tsfresh\n",
    "!pip install imblearn"
   ]
  },
  {
   "cell_type": "code",
   "execution_count": 2,
   "metadata": {
    "colab": {},
    "colab_type": "code",
    "id": "4W6u3NVuvQSA"
   },
   "outputs": [],
   "source": [
    "import pandas as pd\n",
    "import numpy as np\n",
    "\n",
    "# Read in data generated by high-content imaging\n",
    "irak1cluster_inten_path = \"Data/Plate_2019-05-07_ICG-D11-live_KLA-P3C_nig_all-wells_Feature_CircSpotTotalIntenCh3.txt\"  # IRAK1 clusters\n",
    "ascspeck_count_path = \"Data/Plate_2019-05-07_ICG-D11-live_KLA-P3C_nig_all-wells_Feature_CircSpotCountCh2.txt\"  # ASC specks\n",
    "\n",
    "irak1cluster_inten_data = pd.read_csv(irak1cluster_inten_path, sep = '\\t', header = 0, index_col = [0,1,2])\n",
    "ascspeck_count_data = pd.read_csv(ascspeck_count_path, sep = '\\t', header = 0, index_col = [0,1,2])\n",
    "\n",
    "# The original data tables have multiple index columns\n",
    "# Concatenate those into a single index formatted (well, field #, cell #)\n",
    "irak1cluster_inten_data.index = irak1cluster_inten_data.index.map(str)\n",
    "ascspeck_count_data.index = ascspeck_count_data.index.map(str)"
   ]
  },
  {
   "cell_type": "code",
   "execution_count": 3,
   "metadata": {
    "colab": {
     "base_uri": "https://localhost:8080/",
     "height": 326
    },
    "colab_type": "code",
    "id": "-YN4_lw8vQSF",
    "outputId": "ce6d0c99-44d4-445b-acc5-b863d7e19243"
   },
   "outputs": [
    {
     "data": {
      "text/html": [
       "<div>\n",
       "<style scoped>\n",
       "    .dataframe tbody tr th:only-of-type {\n",
       "        vertical-align: middle;\n",
       "    }\n",
       "\n",
       "    .dataframe tbody tr th {\n",
       "        vertical-align: top;\n",
       "    }\n",
       "\n",
       "    .dataframe thead th {\n",
       "        text-align: right;\n",
       "    }\n",
       "</style>\n",
       "<table border=\"1\" class=\"dataframe\">\n",
       "  <thead>\n",
       "    <tr style=\"text-align: right;\">\n",
       "      <th></th>\n",
       "      <th>t1</th>\n",
       "      <th>t2</th>\n",
       "      <th>t3</th>\n",
       "      <th>t4</th>\n",
       "      <th>t5</th>\n",
       "      <th>t6</th>\n",
       "      <th>t7</th>\n",
       "      <th>t8</th>\n",
       "      <th>t9</th>\n",
       "      <th>t10</th>\n",
       "      <th>...</th>\n",
       "      <th>t22</th>\n",
       "      <th>t23</th>\n",
       "      <th>t24</th>\n",
       "      <th>t25</th>\n",
       "      <th>t26</th>\n",
       "      <th>t27</th>\n",
       "      <th>t28</th>\n",
       "      <th>t29</th>\n",
       "      <th>t30</th>\n",
       "      <th>Unnamed: 33</th>\n",
       "    </tr>\n",
       "  </thead>\n",
       "  <tbody>\n",
       "    <tr>\n",
       "      <th>('C5', 1, 1)</th>\n",
       "      <td>0.0</td>\n",
       "      <td>0.0</td>\n",
       "      <td>0.0</td>\n",
       "      <td>0.0</td>\n",
       "      <td>NaN</td>\n",
       "      <td>NaN</td>\n",
       "      <td>NaN</td>\n",
       "      <td>NaN</td>\n",
       "      <td>NaN</td>\n",
       "      <td>NaN</td>\n",
       "      <td>...</td>\n",
       "      <td>NaN</td>\n",
       "      <td>NaN</td>\n",
       "      <td>NaN</td>\n",
       "      <td>NaN</td>\n",
       "      <td>NaN</td>\n",
       "      <td>NaN</td>\n",
       "      <td>NaN</td>\n",
       "      <td>NaN</td>\n",
       "      <td>NaN</td>\n",
       "      <td>NaN</td>\n",
       "    </tr>\n",
       "    <tr>\n",
       "      <th>('C5', 1, 2)</th>\n",
       "      <td>0.0</td>\n",
       "      <td>0.0</td>\n",
       "      <td>0.0</td>\n",
       "      <td>0.0</td>\n",
       "      <td>0.0</td>\n",
       "      <td>0.0</td>\n",
       "      <td>0.0</td>\n",
       "      <td>0.0</td>\n",
       "      <td>0.0</td>\n",
       "      <td>8920.0</td>\n",
       "      <td>...</td>\n",
       "      <td>NaN</td>\n",
       "      <td>NaN</td>\n",
       "      <td>NaN</td>\n",
       "      <td>NaN</td>\n",
       "      <td>NaN</td>\n",
       "      <td>NaN</td>\n",
       "      <td>NaN</td>\n",
       "      <td>NaN</td>\n",
       "      <td>NaN</td>\n",
       "      <td>NaN</td>\n",
       "    </tr>\n",
       "    <tr>\n",
       "      <th>('C5', 1, 3)</th>\n",
       "      <td>0.0</td>\n",
       "      <td>0.0</td>\n",
       "      <td>0.0</td>\n",
       "      <td>0.0</td>\n",
       "      <td>0.0</td>\n",
       "      <td>0.0</td>\n",
       "      <td>0.0</td>\n",
       "      <td>2249.0</td>\n",
       "      <td>NaN</td>\n",
       "      <td>NaN</td>\n",
       "      <td>...</td>\n",
       "      <td>NaN</td>\n",
       "      <td>NaN</td>\n",
       "      <td>NaN</td>\n",
       "      <td>NaN</td>\n",
       "      <td>NaN</td>\n",
       "      <td>NaN</td>\n",
       "      <td>NaN</td>\n",
       "      <td>NaN</td>\n",
       "      <td>NaN</td>\n",
       "      <td>NaN</td>\n",
       "    </tr>\n",
       "    <tr>\n",
       "      <th>('C5', 1, 4)</th>\n",
       "      <td>0.0</td>\n",
       "      <td>0.0</td>\n",
       "      <td>0.0</td>\n",
       "      <td>0.0</td>\n",
       "      <td>0.0</td>\n",
       "      <td>0.0</td>\n",
       "      <td>NaN</td>\n",
       "      <td>NaN</td>\n",
       "      <td>NaN</td>\n",
       "      <td>NaN</td>\n",
       "      <td>...</td>\n",
       "      <td>NaN</td>\n",
       "      <td>NaN</td>\n",
       "      <td>NaN</td>\n",
       "      <td>NaN</td>\n",
       "      <td>NaN</td>\n",
       "      <td>NaN</td>\n",
       "      <td>NaN</td>\n",
       "      <td>NaN</td>\n",
       "      <td>NaN</td>\n",
       "      <td>NaN</td>\n",
       "    </tr>\n",
       "    <tr>\n",
       "      <th>('C5', 1, 5)</th>\n",
       "      <td>0.0</td>\n",
       "      <td>0.0</td>\n",
       "      <td>0.0</td>\n",
       "      <td>3978.0</td>\n",
       "      <td>0.0</td>\n",
       "      <td>NaN</td>\n",
       "      <td>NaN</td>\n",
       "      <td>NaN</td>\n",
       "      <td>NaN</td>\n",
       "      <td>NaN</td>\n",
       "      <td>...</td>\n",
       "      <td>NaN</td>\n",
       "      <td>NaN</td>\n",
       "      <td>NaN</td>\n",
       "      <td>NaN</td>\n",
       "      <td>NaN</td>\n",
       "      <td>NaN</td>\n",
       "      <td>NaN</td>\n",
       "      <td>NaN</td>\n",
       "      <td>NaN</td>\n",
       "      <td>NaN</td>\n",
       "    </tr>\n",
       "  </tbody>\n",
       "</table>\n",
       "<p>5 rows × 31 columns</p>\n",
       "</div>"
      ],
      "text/plain": [
       "               t1   t2   t3      t4   t5   t6   t7      t8   t9     t10  \\\n",
       "('C5', 1, 1)  0.0  0.0  0.0     0.0  NaN  NaN  NaN     NaN  NaN     NaN   \n",
       "('C5', 1, 2)  0.0  0.0  0.0     0.0  0.0  0.0  0.0     0.0  0.0  8920.0   \n",
       "('C5', 1, 3)  0.0  0.0  0.0     0.0  0.0  0.0  0.0  2249.0  NaN     NaN   \n",
       "('C5', 1, 4)  0.0  0.0  0.0     0.0  0.0  0.0  NaN     NaN  NaN     NaN   \n",
       "('C5', 1, 5)  0.0  0.0  0.0  3978.0  0.0  NaN  NaN     NaN  NaN     NaN   \n",
       "\n",
       "                 ...       t22  t23  t24  t25  t26  t27  t28  t29  t30  \\\n",
       "('C5', 1, 1)     ...       NaN  NaN  NaN  NaN  NaN  NaN  NaN  NaN  NaN   \n",
       "('C5', 1, 2)     ...       NaN  NaN  NaN  NaN  NaN  NaN  NaN  NaN  NaN   \n",
       "('C5', 1, 3)     ...       NaN  NaN  NaN  NaN  NaN  NaN  NaN  NaN  NaN   \n",
       "('C5', 1, 4)     ...       NaN  NaN  NaN  NaN  NaN  NaN  NaN  NaN  NaN   \n",
       "('C5', 1, 5)     ...       NaN  NaN  NaN  NaN  NaN  NaN  NaN  NaN  NaN   \n",
       "\n",
       "              Unnamed: 33  \n",
       "('C5', 1, 1)          NaN  \n",
       "('C5', 1, 2)          NaN  \n",
       "('C5', 1, 3)          NaN  \n",
       "('C5', 1, 4)          NaN  \n",
       "('C5', 1, 5)          NaN  \n",
       "\n",
       "[5 rows x 31 columns]"
      ]
     },
     "execution_count": 3,
     "metadata": {},
     "output_type": "execute_result"
    }
   ],
   "source": [
    "irak1cluster_inten_data.head()"
   ]
  },
  {
   "cell_type": "code",
   "execution_count": 4,
   "metadata": {
    "colab": {
     "base_uri": "https://localhost:8080/",
     "height": 326
    },
    "colab_type": "code",
    "id": "XOH_sfVHvQSJ",
    "outputId": "e2ab5b63-3334-4cbc-ad64-f1467cfd33e4"
   },
   "outputs": [
    {
     "data": {
      "text/html": [
       "<div>\n",
       "<style scoped>\n",
       "    .dataframe tbody tr th:only-of-type {\n",
       "        vertical-align: middle;\n",
       "    }\n",
       "\n",
       "    .dataframe tbody tr th {\n",
       "        vertical-align: top;\n",
       "    }\n",
       "\n",
       "    .dataframe thead th {\n",
       "        text-align: right;\n",
       "    }\n",
       "</style>\n",
       "<table border=\"1\" class=\"dataframe\">\n",
       "  <thead>\n",
       "    <tr style=\"text-align: right;\">\n",
       "      <th></th>\n",
       "      <th>t1</th>\n",
       "      <th>t2</th>\n",
       "      <th>t3</th>\n",
       "      <th>t4</th>\n",
       "      <th>t5</th>\n",
       "      <th>t6</th>\n",
       "      <th>t7</th>\n",
       "      <th>t8</th>\n",
       "      <th>t9</th>\n",
       "      <th>t10</th>\n",
       "      <th>...</th>\n",
       "      <th>t22</th>\n",
       "      <th>t23</th>\n",
       "      <th>t24</th>\n",
       "      <th>t25</th>\n",
       "      <th>t26</th>\n",
       "      <th>t27</th>\n",
       "      <th>t28</th>\n",
       "      <th>t29</th>\n",
       "      <th>t30</th>\n",
       "      <th>Unnamed: 33</th>\n",
       "    </tr>\n",
       "  </thead>\n",
       "  <tbody>\n",
       "    <tr>\n",
       "      <th>('C5', 1, 1)</th>\n",
       "      <td>0.0</td>\n",
       "      <td>0.0</td>\n",
       "      <td>0.0</td>\n",
       "      <td>0.0</td>\n",
       "      <td>NaN</td>\n",
       "      <td>NaN</td>\n",
       "      <td>NaN</td>\n",
       "      <td>NaN</td>\n",
       "      <td>NaN</td>\n",
       "      <td>NaN</td>\n",
       "      <td>...</td>\n",
       "      <td>NaN</td>\n",
       "      <td>NaN</td>\n",
       "      <td>NaN</td>\n",
       "      <td>NaN</td>\n",
       "      <td>NaN</td>\n",
       "      <td>NaN</td>\n",
       "      <td>NaN</td>\n",
       "      <td>NaN</td>\n",
       "      <td>NaN</td>\n",
       "      <td>NaN</td>\n",
       "    </tr>\n",
       "    <tr>\n",
       "      <th>('C5', 1, 2)</th>\n",
       "      <td>0.0</td>\n",
       "      <td>0.0</td>\n",
       "      <td>0.0</td>\n",
       "      <td>0.0</td>\n",
       "      <td>0.0</td>\n",
       "      <td>0.0</td>\n",
       "      <td>0.0</td>\n",
       "      <td>0.0</td>\n",
       "      <td>0.0</td>\n",
       "      <td>0.0</td>\n",
       "      <td>...</td>\n",
       "      <td>NaN</td>\n",
       "      <td>NaN</td>\n",
       "      <td>NaN</td>\n",
       "      <td>NaN</td>\n",
       "      <td>NaN</td>\n",
       "      <td>NaN</td>\n",
       "      <td>NaN</td>\n",
       "      <td>NaN</td>\n",
       "      <td>NaN</td>\n",
       "      <td>NaN</td>\n",
       "    </tr>\n",
       "    <tr>\n",
       "      <th>('C5', 1, 3)</th>\n",
       "      <td>0.0</td>\n",
       "      <td>0.0</td>\n",
       "      <td>0.0</td>\n",
       "      <td>0.0</td>\n",
       "      <td>0.0</td>\n",
       "      <td>0.0</td>\n",
       "      <td>0.0</td>\n",
       "      <td>0.0</td>\n",
       "      <td>NaN</td>\n",
       "      <td>NaN</td>\n",
       "      <td>...</td>\n",
       "      <td>NaN</td>\n",
       "      <td>NaN</td>\n",
       "      <td>NaN</td>\n",
       "      <td>NaN</td>\n",
       "      <td>NaN</td>\n",
       "      <td>NaN</td>\n",
       "      <td>NaN</td>\n",
       "      <td>NaN</td>\n",
       "      <td>NaN</td>\n",
       "      <td>NaN</td>\n",
       "    </tr>\n",
       "    <tr>\n",
       "      <th>('C5', 1, 4)</th>\n",
       "      <td>0.0</td>\n",
       "      <td>0.0</td>\n",
       "      <td>0.0</td>\n",
       "      <td>0.0</td>\n",
       "      <td>0.0</td>\n",
       "      <td>0.0</td>\n",
       "      <td>NaN</td>\n",
       "      <td>NaN</td>\n",
       "      <td>NaN</td>\n",
       "      <td>NaN</td>\n",
       "      <td>...</td>\n",
       "      <td>NaN</td>\n",
       "      <td>NaN</td>\n",
       "      <td>NaN</td>\n",
       "      <td>NaN</td>\n",
       "      <td>NaN</td>\n",
       "      <td>NaN</td>\n",
       "      <td>NaN</td>\n",
       "      <td>NaN</td>\n",
       "      <td>NaN</td>\n",
       "      <td>NaN</td>\n",
       "    </tr>\n",
       "    <tr>\n",
       "      <th>('C5', 1, 5)</th>\n",
       "      <td>0.0</td>\n",
       "      <td>0.0</td>\n",
       "      <td>0.0</td>\n",
       "      <td>0.0</td>\n",
       "      <td>0.0</td>\n",
       "      <td>NaN</td>\n",
       "      <td>NaN</td>\n",
       "      <td>NaN</td>\n",
       "      <td>NaN</td>\n",
       "      <td>NaN</td>\n",
       "      <td>...</td>\n",
       "      <td>NaN</td>\n",
       "      <td>NaN</td>\n",
       "      <td>NaN</td>\n",
       "      <td>NaN</td>\n",
       "      <td>NaN</td>\n",
       "      <td>NaN</td>\n",
       "      <td>NaN</td>\n",
       "      <td>NaN</td>\n",
       "      <td>NaN</td>\n",
       "      <td>NaN</td>\n",
       "    </tr>\n",
       "  </tbody>\n",
       "</table>\n",
       "<p>5 rows × 31 columns</p>\n",
       "</div>"
      ],
      "text/plain": [
       "               t1   t2   t3   t4   t5   t6   t7   t8   t9  t10     ...       \\\n",
       "('C5', 1, 1)  0.0  0.0  0.0  0.0  NaN  NaN  NaN  NaN  NaN  NaN     ...        \n",
       "('C5', 1, 2)  0.0  0.0  0.0  0.0  0.0  0.0  0.0  0.0  0.0  0.0     ...        \n",
       "('C5', 1, 3)  0.0  0.0  0.0  0.0  0.0  0.0  0.0  0.0  NaN  NaN     ...        \n",
       "('C5', 1, 4)  0.0  0.0  0.0  0.0  0.0  0.0  NaN  NaN  NaN  NaN     ...        \n",
       "('C5', 1, 5)  0.0  0.0  0.0  0.0  0.0  NaN  NaN  NaN  NaN  NaN     ...        \n",
       "\n",
       "              t22  t23  t24  t25  t26  t27  t28  t29  t30  Unnamed: 33  \n",
       "('C5', 1, 1)  NaN  NaN  NaN  NaN  NaN  NaN  NaN  NaN  NaN          NaN  \n",
       "('C5', 1, 2)  NaN  NaN  NaN  NaN  NaN  NaN  NaN  NaN  NaN          NaN  \n",
       "('C5', 1, 3)  NaN  NaN  NaN  NaN  NaN  NaN  NaN  NaN  NaN          NaN  \n",
       "('C5', 1, 4)  NaN  NaN  NaN  NaN  NaN  NaN  NaN  NaN  NaN          NaN  \n",
       "('C5', 1, 5)  NaN  NaN  NaN  NaN  NaN  NaN  NaN  NaN  NaN          NaN  \n",
       "\n",
       "[5 rows x 31 columns]"
      ]
     },
     "execution_count": 4,
     "metadata": {},
     "output_type": "execute_result"
    }
   ],
   "source": [
    "ascspeck_count_data.head()"
   ]
  },
  {
   "cell_type": "code",
   "execution_count": 5,
   "metadata": {
    "colab": {
     "base_uri": "https://localhost:8080/",
     "height": 204
    },
    "colab_type": "code",
    "id": "wSfj_YYTvQSL",
    "outputId": "a11d2618-5719-4e72-a2b2-d11b04ed5b66"
   },
   "outputs": [
    {
     "data": {
      "text/html": [
       "<div>\n",
       "<style scoped>\n",
       "    .dataframe tbody tr th:only-of-type {\n",
       "        vertical-align: middle;\n",
       "    }\n",
       "\n",
       "    .dataframe tbody tr th {\n",
       "        vertical-align: top;\n",
       "    }\n",
       "\n",
       "    .dataframe thead th {\n",
       "        text-align: right;\n",
       "    }\n",
       "</style>\n",
       "<table border=\"1\" class=\"dataframe\">\n",
       "  <thead>\n",
       "    <tr style=\"text-align: right;\">\n",
       "      <th></th>\n",
       "      <th>t8</th>\n",
       "      <th>t9</th>\n",
       "      <th>t10</th>\n",
       "      <th>t11</th>\n",
       "      <th>t12</th>\n",
       "      <th>t13</th>\n",
       "      <th>t14</th>\n",
       "      <th>t15</th>\n",
       "      <th>t16</th>\n",
       "      <th>t17</th>\n",
       "      <th>t18</th>\n",
       "    </tr>\n",
       "  </thead>\n",
       "  <tbody>\n",
       "    <tr>\n",
       "      <th>('C5', 1, 17)</th>\n",
       "      <td>0.0</td>\n",
       "      <td>0.0</td>\n",
       "      <td>1600.0</td>\n",
       "      <td>1547.0</td>\n",
       "      <td>3313.0</td>\n",
       "      <td>1926.0</td>\n",
       "      <td>0.0</td>\n",
       "      <td>1670.0</td>\n",
       "      <td>3455.0</td>\n",
       "      <td>1758.0</td>\n",
       "      <td>5083.0</td>\n",
       "    </tr>\n",
       "    <tr>\n",
       "      <th>('C5', 1, 67)</th>\n",
       "      <td>0.0</td>\n",
       "      <td>0.0</td>\n",
       "      <td>0.0</td>\n",
       "      <td>0.0</td>\n",
       "      <td>0.0</td>\n",
       "      <td>0.0</td>\n",
       "      <td>0.0</td>\n",
       "      <td>0.0</td>\n",
       "      <td>0.0</td>\n",
       "      <td>0.0</td>\n",
       "      <td>0.0</td>\n",
       "    </tr>\n",
       "    <tr>\n",
       "      <th>('C5', 1, 74)</th>\n",
       "      <td>0.0</td>\n",
       "      <td>0.0</td>\n",
       "      <td>0.0</td>\n",
       "      <td>0.0</td>\n",
       "      <td>0.0</td>\n",
       "      <td>0.0</td>\n",
       "      <td>0.0</td>\n",
       "      <td>27484.0</td>\n",
       "      <td>19677.0</td>\n",
       "      <td>3270.0</td>\n",
       "      <td>49448.0</td>\n",
       "    </tr>\n",
       "    <tr>\n",
       "      <th>('C5', 1, 82)</th>\n",
       "      <td>0.0</td>\n",
       "      <td>0.0</td>\n",
       "      <td>0.0</td>\n",
       "      <td>0.0</td>\n",
       "      <td>0.0</td>\n",
       "      <td>0.0</td>\n",
       "      <td>0.0</td>\n",
       "      <td>0.0</td>\n",
       "      <td>0.0</td>\n",
       "      <td>0.0</td>\n",
       "      <td>0.0</td>\n",
       "    </tr>\n",
       "    <tr>\n",
       "      <th>('C5', 1, 86)</th>\n",
       "      <td>0.0</td>\n",
       "      <td>0.0</td>\n",
       "      <td>0.0</td>\n",
       "      <td>0.0</td>\n",
       "      <td>0.0</td>\n",
       "      <td>0.0</td>\n",
       "      <td>1499.0</td>\n",
       "      <td>0.0</td>\n",
       "      <td>0.0</td>\n",
       "      <td>0.0</td>\n",
       "      <td>0.0</td>\n",
       "    </tr>\n",
       "  </tbody>\n",
       "</table>\n",
       "</div>"
      ],
      "text/plain": [
       "                t8   t9     t10     t11     t12     t13     t14      t15  \\\n",
       "('C5', 1, 17)  0.0  0.0  1600.0  1547.0  3313.0  1926.0     0.0   1670.0   \n",
       "('C5', 1, 67)  0.0  0.0     0.0     0.0     0.0     0.0     0.0      0.0   \n",
       "('C5', 1, 74)  0.0  0.0     0.0     0.0     0.0     0.0     0.0  27484.0   \n",
       "('C5', 1, 82)  0.0  0.0     0.0     0.0     0.0     0.0     0.0      0.0   \n",
       "('C5', 1, 86)  0.0  0.0     0.0     0.0     0.0     0.0  1499.0      0.0   \n",
       "\n",
       "                   t16     t17      t18  \n",
       "('C5', 1, 17)   3455.0  1758.0   5083.0  \n",
       "('C5', 1, 67)      0.0     0.0      0.0  \n",
       "('C5', 1, 74)  19677.0  3270.0  49448.0  \n",
       "('C5', 1, 82)      0.0     0.0      0.0  \n",
       "('C5', 1, 86)      0.0     0.0      0.0  "
      ]
     },
     "execution_count": 5,
     "metadata": {},
     "output_type": "execute_result"
    }
   ],
   "source": [
    "# Select only cells that have full tracks from t8 through t24\n",
    "# Exploit the fact that the software generates only continuous tracks, so just need to check t8 & t24\n",
    "#  If those time points are non-null, then all time points between them are non-null.\n",
    "selected_cells = ~(pd.isnull(ascspeck_count_data['t8'])) & ~(pd.isnull(ascspeck_count_data['t24']))\n",
    "sum(selected_cells)\n",
    "irak1cluster_inten_selected = irak1cluster_inten_data[selected_cells]\n",
    "ascspeck_count_selected = ascspeck_count_data[selected_cells]\n",
    "\n",
    "\n",
    "# Pull time points t8-t18 from IRAK1 cluster data\n",
    "#   these are the time points prior to addition of the trigger\n",
    "#   and will be the features (X) for machine learning\n",
    "irak1_timeseries = irak1cluster_inten_selected.iloc[:,7:18]\n",
    "irak1_timeseries.head()"
   ]
  },
  {
   "cell_type": "code",
   "execution_count": 6,
   "metadata": {
    "colab": {
     "base_uri": "https://localhost:8080/",
     "height": 204
    },
    "colab_type": "code",
    "id": "2Hus8vDfqY2x",
    "outputId": "4b236a4a-ea76-4659-b698-ddc9999302d3"
   },
   "outputs": [
    {
     "data": {
      "text/html": [
       "<div>\n",
       "<style scoped>\n",
       "    .dataframe tbody tr th:only-of-type {\n",
       "        vertical-align: middle;\n",
       "    }\n",
       "\n",
       "    .dataframe tbody tr th {\n",
       "        vertical-align: top;\n",
       "    }\n",
       "\n",
       "    .dataframe thead th {\n",
       "        text-align: right;\n",
       "    }\n",
       "</style>\n",
       "<table border=\"1\" class=\"dataframe\">\n",
       "  <thead>\n",
       "    <tr style=\"text-align: right;\">\n",
       "      <th></th>\n",
       "      <th>0</th>\n",
       "    </tr>\n",
       "  </thead>\n",
       "  <tbody>\n",
       "    <tr>\n",
       "      <th>('C5', 1, 17)</th>\n",
       "      <td>True</td>\n",
       "    </tr>\n",
       "    <tr>\n",
       "      <th>('C5', 1, 67)</th>\n",
       "      <td>True</td>\n",
       "    </tr>\n",
       "    <tr>\n",
       "      <th>('C5', 1, 74)</th>\n",
       "      <td>False</td>\n",
       "    </tr>\n",
       "    <tr>\n",
       "      <th>('C5', 1, 82)</th>\n",
       "      <td>False</td>\n",
       "    </tr>\n",
       "    <tr>\n",
       "      <th>('C5', 1, 86)</th>\n",
       "      <td>False</td>\n",
       "    </tr>\n",
       "  </tbody>\n",
       "</table>\n",
       "</div>"
      ],
      "text/plain": [
       "                   0\n",
       "('C5', 1, 17)   True\n",
       "('C5', 1, 67)   True\n",
       "('C5', 1, 74)  False\n",
       "('C5', 1, 82)  False\n",
       "('C5', 1, 86)  False"
      ]
     },
     "execution_count": 6,
     "metadata": {},
     "output_type": "execute_result"
    }
   ],
   "source": [
    "# Collapse ASC speck counts into single TRUE/FALSE outcome, this is the outcome \"y\"\n",
    "ascspeck_TF = (ascspeck_count_selected > 0).any(axis = \"columns\")\n",
    "ascspeck_TF.head().to_frame()"
   ]
  },
  {
   "cell_type": "code",
   "execution_count": 7,
   "metadata": {
    "colab": {},
    "colab_type": "code",
    "id": "CUxWdWL1vQST"
   },
   "outputs": [],
   "source": [
    "# Scale the entire data set by the highest value\n",
    "#   Such that all values are between 0 & 1, while preserving the shape of each time course\n",
    "irak1_norm = irak1_timeseries / irak1_timeseries.max().max()"
   ]
  },
  {
   "cell_type": "code",
   "execution_count": 10,
   "metadata": {
    "colab": {
     "base_uri": "https://localhost:8080/",
     "height": 354
    },
    "colab_type": "code",
    "id": "ZpUpn27svQSW",
    "outputId": "67fad7d7-f0c1-40d0-ecb9-d19e8fdf0e67"
   },
   "outputs": [
    {
     "data": {
      "text/plain": [
       "(array([113.,   9.,   4.,   2.,   2.,   1.,   0.,   2.,   0.,   0.,   3.,\n",
       "          0.]),\n",
       " array([     0.,  10000.,  20000.,  30000.,  40000.,  50000.,  60000.,\n",
       "         70000.,  80000.,  90000., 100000., 110000., 120000.]),\n",
       " <a list of 12 Patch objects>)"
      ]
     },
     "execution_count": 10,
     "metadata": {},
     "output_type": "execute_result"
    },
    {
     "data": {
      "image/png": "[encoded data removed]",
      "text/plain": [
       "<Figure size 432x288 with 1 Axes>"
      ]
     },
     "metadata": {
      "needs_background": "light"
     },
     "output_type": "display_data"
    }
   ],
   "source": [
    "import matplotlib.pyplot as plt\n",
    "\n",
    "# Plot a couple histograms to see if the +speck and -speck groups differ appreciably\n",
    "plt.hist(irak1_timeseries[ascspeck_TF].iloc[:,8], bins = 12, range = (0,120000), alpha = 0.3, lw=3, color= 'b')\n",
    "plt.hist(irak1_timeseries[~ascspeck_TF].iloc[:,8], bins = 12, range = (0,120000), alpha = 0.3, lw=3, color= 'r')"
   ]
  },
  {
   "cell_type": "markdown",
   "metadata": {
    "colab": {
     "base_uri": "https://localhost:8080/",
     "height": 286
    },
    "colab_type": "code",
    "id": "2oe-ss2cz8QV",
    "outputId": "2b351590-84aa-47aa-9395-25733ed3fc6e"
   },
   "source": [
    "From the histograms, it is difficult to distinguish the +speck (blue) and -speck (red) groups on a single time point. Therefore, I will try two dimensionality-reduction methods to see if the groups separate more clearly when all available time points are considered.\n",
    "\n",
    "Independent component analysis (ICA) is a linear dimensionality-reduction method related to PCA, but in some cases more suitable for time-series data because it considers higher-order statistics. ICA has been used in several time-series applications previous, such as https://link.springer.com/chapter/10.1007/978-3-642-34904-1_45."
   ]
  },
  {
   "cell_type": "code",
   "execution_count": 11,
   "metadata": {
    "colab": {
     "base_uri": "https://localhost:8080/",
     "height": 286
    },
    "colab_type": "code",
    "id": "2oe-ss2cz8QV",
    "outputId": "2b351590-84aa-47aa-9395-25733ed3fc6e"
   },
   "outputs": [
    {
     "data": {
      "text/plain": [
       "<matplotlib.collections.PathCollection at 0x1dc41c44048>"
      ]
     },
     "execution_count": 11,
     "metadata": {},
     "output_type": "execute_result"
    },
    {
     "data": {
      "image/png": "[encoded data removed]",
      "text/plain": [
       "<Figure size 432x288 with 1 Axes>"
      ]
     },
     "metadata": {
      "needs_background": "light"
     },
     "output_type": "display_data"
    }
   ],
   "source": [
    "# Independent component analysis (ICA)\n",
    "from sklearn.decomposition import FastICA\n",
    "\n",
    "ica = FastICA(n_components = 2)\n",
    "decomp = ica.fit_transform(irak1_norm)  # Reconstruct signals\n",
    "mixing = ica.mixing_  # Get estimated mixing matrix\n",
    "\n",
    "plt.scatter(decomp[ascspeck_TF][:,0], decomp[ascspeck_TF][:,1], alpha = 0.5, color= 'b') \n",
    "plt.scatter(decomp[~ascspeck_TF][:,0], decomp[~ascspeck_TF][:,1], alpha = 0.5, color= 'r') "
   ]
  },
  {
   "cell_type": "markdown",
   "metadata": {
    "colab": {
     "base_uri": "https://localhost:8080/",
     "height": 286
    },
    "colab_type": "code",
    "id": "uYI2zn6Fo9aK",
    "outputId": "c33367ef-d50d-4f74-e615-add1036e61af"
   },
   "source": [
    "ICA doesn't separate the two groups very well, so I will also try t-stochastic neighbor embedding, a non-linear dimensionality-reduction method, to see if it yields better separation."
   ]
  },
  {
   "cell_type": "code",
   "execution_count": 12,
   "metadata": {
    "colab": {
     "base_uri": "https://localhost:8080/",
     "height": 286
    },
    "colab_type": "code",
    "id": "uYI2zn6Fo9aK",
    "outputId": "c33367ef-d50d-4f74-e615-add1036e61af"
   },
   "outputs": [
    {
     "data": {
      "text/plain": [
       "<matplotlib.collections.PathCollection at 0x1dc429f1e48>"
      ]
     },
     "execution_count": 12,
     "metadata": {},
     "output_type": "execute_result"
    },
    {
     "data": {
      "image/png": "[encoded data removed]",
      "text/plain": [
       "<Figure size 432x288 with 1 Axes>"
      ]
     },
     "metadata": {
      "needs_background": "light"
     },
     "output_type": "display_data"
    }
   ],
   "source": [
    "# t-SNE\n",
    "from sklearn.manifold import TSNE\n",
    "\n",
    "tsne = TSNE(n_components = 2, perplexity = 80) \n",
    "decomp = tsne.fit_transform(irak1_norm)  # Reconstruct signals\n",
    "\n",
    "plt.scatter(decomp[ascspeck_TF][:,0], decomp[ascspeck_TF][:,1], alpha = 0.5, color= 'b') \n",
    "plt.scatter(decomp[~ascspeck_TF][:,0], decomp[~ascspeck_TF][:,1], alpha = 0.5, color= 'r') "
   ]
  },
  {
   "cell_type": "markdown",
   "metadata": {
    "colab": {
     "base_uri": "https://localhost:8080/",
     "height": 34
    },
    "colab_type": "code",
    "id": "hjNvOevBFnhr",
    "outputId": "205d291e-eaf2-4afd-f93c-005fdc31e828"
   },
   "source": [
    "t-SNE also fails to show convincing separation between the two groups, so it seems that in general dimensionality reduction is not a good strategy for this data. I will therefore use all the dimensions (time points) of the data in an initial attempt at classification. \n",
    "\n",
    "I will initially try 3 classification methods: KNN, random forest, and support vector machine."
   ]
  },
  {
   "cell_type": "code",
   "execution_count": 13,
   "metadata": {
    "colab": {
     "base_uri": "https://localhost:8080/",
     "height": 34
    },
    "colab_type": "code",
    "id": "hjNvOevBFnhr",
    "outputId": "205d291e-eaf2-4afd-f93c-005fdc31e828"
   },
   "outputs": [],
   "source": [
    "from sklearn.neighbors import KNeighborsClassifier\n",
    "from sklearn.ensemble import RandomForestClassifier\n",
    "from sklearn.svm import SVC\n",
    "\n",
    "# Initialize KNN classifier\n",
    "knnc = KNeighborsClassifier(n_neighbors = 5)\n",
    "\n",
    "# Initialize Random forest classifier\n",
    "rfc = RandomForestClassifier(n_estimators = 10)\n",
    "\n",
    "# Initialize support vector classifier\n",
    "svc = SVC(gamma = 'scale', kernel = 'rbf')"
   ]
  },
  {
   "cell_type": "code",
   "execution_count": 14,
   "metadata": {
    "colab": {
     "base_uri": "https://localhost:8080/",
     "height": 34
    },
    "colab_type": "code",
    "id": "5HDNjJnw25wf",
    "outputId": "cf6a40cf-0250-4e76-d601-2fb74f449ca9"
   },
   "outputs": [
    {
     "data": {
      "text/plain": [
       "0.7311827956989247"
      ]
     },
     "execution_count": 14,
     "metadata": {},
     "output_type": "execute_result"
    }
   ],
   "source": [
    "# This is the accuracy you'd get just by guessing FALSE on every cell - need to beat this!\n",
    "np.sum(~ascspeck_TF) / ascspeck_TF.size"
   ]
  },
  {
   "cell_type": "code",
   "execution_count": 17,
   "metadata": {
    "colab": {
     "base_uri": "https://localhost:8080/",
     "height": 355
    },
    "colab_type": "code",
    "id": "LTe6SwEDNjSW",
    "outputId": "2f19acfa-e754-4ece-f8e1-ba12c75bf3f8"
   },
   "outputs": [
    {
     "data": {
      "text/plain": [
       "(array([ 2.,  1.,  6.,  7., 20., 33., 12., 13.,  4.,  2.]),\n",
       " array([0.55319149, 0.58297872, 0.61276596, 0.64255319, 0.67234043,\n",
       "        0.70212766, 0.73191489, 0.76170213, 0.79148936, 0.8212766 ,\n",
       "        0.85106383]),\n",
       " <a list of 10 Patch objects>)"
      ]
     },
     "execution_count": 17,
     "metadata": {},
     "output_type": "execute_result"
    },
    {
     "data": {
      "image/png": "[encoded data removed]",
      "text/plain": [
       "<Figure size 432x288 with 1 Axes>"
      ]
     },
     "metadata": {
      "needs_background": "light"
     },
     "output_type": "display_data"
    }
   ],
   "source": [
    "# Assess accuracy of each classification method with a train & test set\n",
    "# The data set's pretty small, so a 75-25 train-test split will be used to give enough test data\n",
    "from sklearn.model_selection import ShuffleSplit, cross_val_score, train_test_split\n",
    "\n",
    "my_cv = ShuffleSplit(n_splits = 100, test_size = 0.25)\n",
    "\n",
    "# KNN, in red\n",
    "cv_scores = cross_val_score(knnc, irak1_norm, ascspeck_TF, cv = my_cv)\n",
    "plt.hist(cv_scores, alpha = 0.3, color= 'r')\n",
    "\n",
    "# Random forest, in green\n",
    "cv_scores = cross_val_score(rfc, irak1_norm, ascspeck_TF, cv = my_cv)\n",
    "plt.hist(cv_scores, alpha = 0.3, color= 'g')\n",
    "\n",
    "# Support vector, in blue\n",
    "cv_scores = cross_val_score(svc, irak1_norm, ascspeck_TF, cv = my_cv)\n",
    "plt.hist(cv_scores, alpha = 0.3, color= 'b')"
   ]
  },
  {
   "cell_type": "markdown",
   "metadata": {
    "colab": {
     "base_uri": "https://localhost:8080/",
     "height": 51
    },
    "colab_type": "code",
    "id": "6OoPN6OP4C0J",
    "outputId": "173484ea-41cf-4d97-a65e-94b2cfd41b48"
   },
   "source": [
    "The support vector classifier appears to be the most accurate. However, none of the methods seems to consistently beat the ~73% accuracy that you would obtain just by calling \"false\" for all samples. To see if that's happening, check the confusion matrix. I'll use a function to plot a confusion matrix visually, taken from the scikit-learn docs (https://scikit-learn.org/stable/auto_examples/model_selection/plot_confusion_matrix.html)"
   ]
  },
  {
   "cell_type": "code",
   "execution_count": 20,
   "metadata": {
    "colab": {
     "base_uri": "https://localhost:8080/",
     "height": 51
    },
    "colab_type": "code",
    "id": "6OoPN6OP4C0J",
    "outputId": "173484ea-41cf-4d97-a65e-94b2cfd41b48"
   },
   "outputs": [
    {
     "name": "stdout",
     "output_type": "stream",
     "text": [
      "Confusion matrix, without normalization\n",
      "[[27  4]\n",
      " [14  2]]\n",
      "Confusion matrix, without normalization\n",
      "[[29  2]\n",
      " [16  0]]\n",
      "Confusion matrix, without normalization\n",
      "[[31  0]\n",
      " [16  0]]\n"
     ]
    },
    {
     "data": {
      "text/plain": [
       "<matplotlib.axes._subplots.AxesSubplot at 0x1dc43f973c8>"
      ]
     },
     "execution_count": 20,
     "metadata": {},
     "output_type": "execute_result"
    },
    {
     "data": {
      "image/png": "[encoded data removed]",
      "text/plain": [
       "<Figure size 432x288 with 2 Axes>"
      ]
     },
     "metadata": {
      "needs_background": "light"
     },
     "output_type": "display_data"
    },
    {
     "data": {
      "image/png": "[encoded data removed]",
      "text/plain": [
       "<Figure size 432x288 with 2 Axes>"
      ]
     },
     "metadata": {
      "needs_background": "light"
     },
     "output_type": "display_data"
    },
    {
     "data": {
      "image/png": "[encoded data removed]",
      "text/plain": [
       "<Figure size 432x288 with 2 Axes>"
      ]
     },
     "metadata": {
      "needs_background": "light"
     },
     "output_type": "display_data"
    }
   ],
   "source": [
    "from sklearn.metrics import confusion_matrix\n",
    "from sklearn.utils.multiclass import unique_labels\n",
    "\n",
    "# From https://scikit-learn.org/stable/auto_examples/model_selection/plot_confusion_matrix.html\n",
    "# Plots a confusion matrix with labels and color intensity\n",
    "def plot_confusion_matrix(y_true, y_pred, classes,\n",
    "                          normalize=False,\n",
    "                          title=None,\n",
    "                          cmap=plt.cm.Blues):\n",
    "    \"\"\"\n",
    "    This function prints and plots the confusion matrix.\n",
    "    Normalization can be applied by setting `normalize=True`.\n",
    "    \"\"\"\n",
    "    if not title:\n",
    "        if normalize:\n",
    "            title = 'Normalized confusion matrix'\n",
    "        else:\n",
    "            title = 'Confusion matrix, without normalization'\n",
    "\n",
    "    # Compute confusion matrix\n",
    "    cm = confusion_matrix(y_true, y_pred)\n",
    "    if normalize:\n",
    "        cm = cm.astype('float') / cm.sum(axis=1)[:, np.newaxis]\n",
    "        print(\"Normalized confusion matrix\")\n",
    "    else:\n",
    "        print('Confusion matrix, without normalization')\n",
    "\n",
    "    print(cm)\n",
    "\n",
    "    fig, ax = plt.subplots()\n",
    "    im = ax.imshow(cm, interpolation='nearest', cmap=cmap)\n",
    "    ax.figure.colorbar(im, ax=ax)\n",
    "    # We want to show all ticks...\n",
    "    ax.set(xticks=np.arange(cm.shape[1]),\n",
    "           yticks=np.arange(cm.shape[0]),\n",
    "           # ... and label them with the respective list entries\n",
    "           xticklabels=classes, yticklabels=classes,\n",
    "           title=title,\n",
    "           ylabel='True label',\n",
    "           xlabel='Predicted label')\n",
    "\n",
    "    # Rotate the tick labels and set their alignment.\n",
    "    plt.setp(ax.get_xticklabels(), rotation=45, ha=\"right\",\n",
    "             rotation_mode=\"anchor\")\n",
    "\n",
    "    # Loop over data dimensions and create text annotations.\n",
    "    fmt = '.2f' if normalize else 'd'\n",
    "    thresh = cm.max() / 2.\n",
    "    for i in range(cm.shape[0]):\n",
    "        for j in range(cm.shape[1]):\n",
    "            ax.text(j, i, format(cm[i, j], fmt),\n",
    "                    ha=\"center\", va=\"center\",\n",
    "                    color=\"white\" if cm[i, j] > thresh else \"black\")\n",
    "    fig.tight_layout()\n",
    "    return ax\n",
    "\n",
    "X_train, X_test, y_train, y_test = train_test_split(irak1_norm, ascspeck_TF, test_size=.25)\n",
    "\n",
    "knnc = knnc.fit(X_train, y_train)\n",
    "y_pred = knnc.predict(X_test)\n",
    "plot_confusion_matrix(y_test, y_pred, classes = ['False','True'])\n",
    "\n",
    "rfc = rfc.fit(X_train, y_train)\n",
    "y_pred = rfc.predict(X_test)\n",
    "plot_confusion_matrix(y_test, y_pred, classes = ['False','True'])\n",
    "\n",
    "svc = svc.fit(X_train, y_train)\n",
    "y_pred = svc.predict(X_test)\n",
    "plot_confusion_matrix(y_test, y_pred, classes = ['False','True'])"
   ]
  },
  {
   "cell_type": "markdown",
   "metadata": {
    "colab": {
     "base_uri": "https://localhost:8080/",
     "height": 366
    },
    "colab_type": "code",
    "id": "VUID-QACILkV",
    "outputId": "f5ae5a2b-c155-45fe-8735-4a3751965a5b"
   },
   "source": [
    "These confusion matrices indicate that all of these methods are predicting \"no speck\" for basically all the test samples. This is not ideal behavior even though it gives ~70% accuracy, because it does not reval anything about the underlying biology.\n",
    "\n",
    "__Refinement 1: Imbalanced Learning__\n",
    "\n",
    "It may be that the problem is that only about 25% of cells in the data set form ASC specks, and an imbalanced learning approach is called for. I will use random under-sampling to reduce the training set so it contains the sample number of +speck and -speck samples."
   ]
  },
  {
   "cell_type": "code",
   "execution_count": 24,
   "metadata": {
    "colab": {
     "base_uri": "https://localhost:8080/",
     "height": 366
    },
    "colab_type": "code",
    "id": "VUID-QACILkV",
    "outputId": "f5ae5a2b-c155-45fe-8735-4a3751965a5b"
   },
   "outputs": [
    {
     "name": "stdout",
     "output_type": "stream",
     "text": [
      "Confusion matrix, without normalization\n",
      "[[15 15]\n",
      " [10  7]]\n",
      "Confusion matrix, without normalization\n",
      "[[20 10]\n",
      " [13  4]]\n",
      "Confusion matrix, without normalization\n",
      "[[29  1]\n",
      " [11  6]]\n"
     ]
    },
    {
     "data": {
      "text/plain": [
       "<matplotlib.axes._subplots.AxesSubplot at 0x1dc44274978>"
      ]
     },
     "execution_count": 24,
     "metadata": {},
     "output_type": "execute_result"
    },
    {
     "data": {
      "image/png": "[encoded data removed]",
      "text/plain": [
       "<Figure size 432x288 with 2 Axes>"
      ]
     },
     "metadata": {
      "needs_background": "light"
     },
     "output_type": "display_data"
    },
    {
     "data": {
      "image/png": "[encoded data removed]",
      "text/plain": [
       "<Figure size 432x288 with 2 Axes>"
      ]
     },
     "metadata": {
      "needs_background": "light"
     },
     "output_type": "display_data"
    },
    {
     "data": {
      "image/png": "[encoded data removed]",
      "text/plain": [
       "<Figure size 432x288 with 2 Axes>"
      ]
     },
     "metadata": {
      "needs_background": "light"
     },
     "output_type": "display_data"
    }
   ],
   "source": [
    "from imblearn.under_sampling import RandomUnderSampler\n",
    "from imblearn.pipeline import make_pipeline\n",
    "\n",
    "# Create a training set \n",
    "X_train, X_test, y_train, y_test = train_test_split(irak1_norm, ascspeck_TF, test_size=.25)\n",
    "\n",
    "# Set up pipelines with random under-sampling to equalize +speck and -speck groups for each algorithm\n",
    "us_knnc = make_pipeline(RandomUnderSampler(), KNeighborsClassifier(n_neighbors = 5))\n",
    "us_rfc = make_pipeline(RandomUnderSampler(), RandomForestClassifier(n_estimators = 10))\n",
    "us_svc = make_pipeline(RandomUnderSampler(), SVC(gamma = 'scale', kernel = 'rbf'))\n",
    "\n",
    "# Check confusion matrices for each classification algorithm to see if they're still calling FALSE for all samples\n",
    "# KNN\n",
    "us_knnc.fit(X_train, y_train)\n",
    "y_pred = us_knnc.predict(X_test)\n",
    "plot_confusion_matrix(y_test, y_pred, classes = ['False','True'])\n",
    "\n",
    "# Random forest\n",
    "us_rfc.fit(X_train, y_train)\n",
    "y_pred = us_rfc.predict(X_test)\n",
    "plot_confusion_matrix(y_test, y_pred, classes = ['False','True'])\n",
    "\n",
    "# Support vector\n",
    "us_svc.fit(X_train, y_train)\n",
    "y_pred = us_svc.predict(X_test)\n",
    "plot_confusion_matrix(y_test, y_pred, classes = ['False','True'])"
   ]
  },
  {
   "cell_type": "markdown",
   "metadata": {},
   "source": [
    "Encouragingly, the use of under-sampling causes more samples to be predicted as +speck for each of the classification algorithms. Thus, cross-validate to see how well each algorithm now performs."
   ]
  },
  {
   "cell_type": "code",
   "execution_count": 28,
   "metadata": {
    "colab": {
     "base_uri": "https://localhost:8080/",
     "height": 201
    },
    "colab_type": "code",
    "id": "VUL5LQXczQTE",
    "outputId": "38ffc034-cf8c-4162-bd7b-b709b42ce8b5"
   },
   "outputs": [
    {
     "data": {
      "text/plain": [
       "(array([ 2.,  0.,  0.,  0.,  5., 11., 19., 41., 15.,  7.]),\n",
       " array([0.29787234, 0.34893617, 0.4       , 0.45106383, 0.50212766,\n",
       "        0.55319149, 0.60425532, 0.65531915, 0.70638298, 0.75744681,\n",
       "        0.80851064]),\n",
       " <a list of 10 Patch objects>)"
      ]
     },
     "execution_count": 28,
     "metadata": {},
     "output_type": "execute_result"
    },
    {
     "data": {
      "image/png": "[encoded data removed]",
      "text/plain": [
       "<Figure size 432x288 with 1 Axes>"
      ]
     },
     "metadata": {
      "needs_background": "light"
     },
     "output_type": "display_data"
    }
   ],
   "source": [
    "my_cv = ShuffleSplit(n_splits = 100, test_size = 0.25)\n",
    "plt.figure()\n",
    "\n",
    "# KNN, in red\n",
    "cv_scores = cross_val_score(us_knnc, irak1_norm, ascspeck_TF, cv = my_cv)\n",
    "plt.hist(cv_scores, alpha = 0.3, color= 'r')\n",
    "\n",
    "# Random forest, in green\n",
    "cv_scores = cross_val_score(us_rfc, irak1_norm, ascspeck_TF, cv = my_cv)\n",
    "plt.hist(cv_scores, alpha = 0.3, color= 'g')\n",
    "\n",
    "# Support vector, in blue\n",
    "cv_scores = cross_val_score(us_svc, irak1_norm, ascspeck_TF, cv = my_cv)\n",
    "plt.hist(cv_scores, alpha = 0.3, color= 'b')"
   ]
  },
  {
   "cell_type": "markdown",
   "metadata": {
    "colab": {
     "base_uri": "https://localhost:8080/",
     "height": 201
    },
    "colab_type": "code",
    "id": "VUL5LQXczQTE",
    "outputId": "38ffc034-cf8c-4162-bd7b-b709b42ce8b5"
   },
   "source": [
    "The support vector method (blue) now clearly outperforms the other two methods. However, the accuracy remains near 70%, no real improvement over the prior situation.\n",
    "\n",
    "__Refinement 2: Feature Extraction__\n",
    "\n",
    "Another way to analyze time-series data is by extracting independent features from each time series - the mean, variance, quantiles, rates of change, etc. This functionality has been implemented in Python in the _tsfresh_ package, which will also automatically strip the extracted features of non-informative ones (e.g. features where all values are zero)."
   ]
  },
  {
   "cell_type": "code",
   "execution_count": 29,
   "metadata": {
    "colab": {
     "base_uri": "https://localhost:8080/",
     "height": 201
    },
    "colab_type": "code",
    "id": "VUL5LQXczQTE",
    "outputId": "38ffc034-cf8c-4162-bd7b-b709b42ce8b5"
   },
   "outputs": [
    {
     "data": {
      "text/html": [
       "<div>\n",
       "<style scoped>\n",
       "    .dataframe tbody tr th:only-of-type {\n",
       "        vertical-align: middle;\n",
       "    }\n",
       "\n",
       "    .dataframe tbody tr th {\n",
       "        vertical-align: top;\n",
       "    }\n",
       "\n",
       "    .dataframe thead th {\n",
       "        text-align: right;\n",
       "    }\n",
       "</style>\n",
       "<table border=\"1\" class=\"dataframe\">\n",
       "  <thead>\n",
       "    <tr style=\"text-align: right;\">\n",
       "      <th></th>\n",
       "      <th>cell</th>\n",
       "      <th>time</th>\n",
       "      <th>0</th>\n",
       "    </tr>\n",
       "  </thead>\n",
       "  <tbody>\n",
       "    <tr>\n",
       "      <th>0</th>\n",
       "      <td>('C5', 1, 17)</td>\n",
       "      <td>t8</td>\n",
       "      <td>0.0</td>\n",
       "    </tr>\n",
       "    <tr>\n",
       "      <th>1</th>\n",
       "      <td>('C5', 1, 17)</td>\n",
       "      <td>t9</td>\n",
       "      <td>0.0</td>\n",
       "    </tr>\n",
       "    <tr>\n",
       "      <th>2</th>\n",
       "      <td>('C5', 1, 17)</td>\n",
       "      <td>t10</td>\n",
       "      <td>1600.0</td>\n",
       "    </tr>\n",
       "    <tr>\n",
       "      <th>3</th>\n",
       "      <td>('C5', 1, 17)</td>\n",
       "      <td>t11</td>\n",
       "      <td>1547.0</td>\n",
       "    </tr>\n",
       "    <tr>\n",
       "      <th>4</th>\n",
       "      <td>('C5', 1, 17)</td>\n",
       "      <td>t12</td>\n",
       "      <td>3313.0</td>\n",
       "    </tr>\n",
       "  </tbody>\n",
       "</table>\n",
       "</div>"
      ],
      "text/plain": [
       "            cell time       0\n",
       "0  ('C5', 1, 17)   t8     0.0\n",
       "1  ('C5', 1, 17)   t9     0.0\n",
       "2  ('C5', 1, 17)  t10  1600.0\n",
       "3  ('C5', 1, 17)  t11  1547.0\n",
       "4  ('C5', 1, 17)  t12  3313.0"
      ]
     },
     "execution_count": 29,
     "metadata": {},
     "output_type": "execute_result"
    }
   ],
   "source": [
    "# To use tsfresh, the data must be reshaped so that each row represents a single time point for a single cell.\n",
    "irak1_reshape = irak1_timeseries.stack()\n",
    "irak1_reshape.index.rename([ 'cell', 'time' ], inplace = True )\n",
    "irak1_reshape = irak1_reshape.reset_index()\n",
    "irak1_reshape.head()"
   ]
  },
  {
   "cell_type": "code",
   "execution_count": 30,
   "metadata": {
    "colab": {
     "base_uri": "https://localhost:8080/",
     "height": 15654
    },
    "colab_type": "code",
    "id": "oe-afDi15jnE",
    "outputId": "20f28591-126c-45d7-f74a-2fba247ad3a4"
   },
   "outputs": [
    {
     "name": "stderr",
     "output_type": "stream",
     "text": [
      "Feature Extraction: 100%|██████████| 10/10 [00:13<00:00,  1.22s/it]\n",
      "WARNING:tsfresh.utilities.dataframe_functions:The columns ['0__agg_linear_trend__f_agg_\"max\"__chunk_len_50__attr_\"intercept\"'\n",
      " '0__agg_linear_trend__f_agg_\"max\"__chunk_len_50__attr_\"rvalue\"'\n",
      " '0__agg_linear_trend__f_agg_\"max\"__chunk_len_50__attr_\"slope\"'\n",
      " '0__agg_linear_trend__f_agg_\"max\"__chunk_len_50__attr_\"stderr\"'\n",
      " '0__agg_linear_trend__f_agg_\"mean\"__chunk_len_50__attr_\"intercept\"'\n",
      " '0__agg_linear_trend__f_agg_\"mean\"__chunk_len_50__attr_\"rvalue\"'\n",
      " '0__agg_linear_trend__f_agg_\"mean\"__chunk_len_50__attr_\"slope\"'\n",
      " '0__agg_linear_trend__f_agg_\"mean\"__chunk_len_50__attr_\"stderr\"'\n",
      " '0__agg_linear_trend__f_agg_\"min\"__chunk_len_50__attr_\"intercept\"'\n",
      " '0__agg_linear_trend__f_agg_\"min\"__chunk_len_50__attr_\"rvalue\"'\n",
      " '0__agg_linear_trend__f_agg_\"min\"__chunk_len_50__attr_\"slope\"'\n",
      " '0__agg_linear_trend__f_agg_\"min\"__chunk_len_50__attr_\"stderr\"'\n",
      " '0__agg_linear_trend__f_agg_\"var\"__chunk_len_50__attr_\"intercept\"'\n",
      " '0__agg_linear_trend__f_agg_\"var\"__chunk_len_50__attr_\"rvalue\"'\n",
      " '0__agg_linear_trend__f_agg_\"var\"__chunk_len_50__attr_\"slope\"'\n",
      " '0__agg_linear_trend__f_agg_\"var\"__chunk_len_50__attr_\"stderr\"'\n",
      " '0__cwt_coefficients__widths_(2, 5, 10, 20)__coeff_11__w_10'\n",
      " '0__cwt_coefficients__widths_(2, 5, 10, 20)__coeff_11__w_2'\n",
      " '0__cwt_coefficients__widths_(2, 5, 10, 20)__coeff_11__w_20'\n",
      " '0__cwt_coefficients__widths_(2, 5, 10, 20)__coeff_11__w_5'\n",
      " '0__cwt_coefficients__widths_(2, 5, 10, 20)__coeff_12__w_10'\n",
      " '0__cwt_coefficients__widths_(2, 5, 10, 20)__coeff_12__w_2'\n",
      " '0__cwt_coefficients__widths_(2, 5, 10, 20)__coeff_12__w_20'\n",
      " '0__cwt_coefficients__widths_(2, 5, 10, 20)__coeff_12__w_5'\n",
      " '0__cwt_coefficients__widths_(2, 5, 10, 20)__coeff_13__w_10'\n",
      " '0__cwt_coefficients__widths_(2, 5, 10, 20)__coeff_13__w_2'\n",
      " '0__cwt_coefficients__widths_(2, 5, 10, 20)__coeff_13__w_20'\n",
      " '0__cwt_coefficients__widths_(2, 5, 10, 20)__coeff_13__w_5'\n",
      " '0__cwt_coefficients__widths_(2, 5, 10, 20)__coeff_14__w_10'\n",
      " '0__cwt_coefficients__widths_(2, 5, 10, 20)__coeff_14__w_2'\n",
      " '0__cwt_coefficients__widths_(2, 5, 10, 20)__coeff_14__w_20'\n",
      " '0__cwt_coefficients__widths_(2, 5, 10, 20)__coeff_14__w_5'\n",
      " '0__fft_coefficient__coeff_10__attr_\"abs\"'\n",
      " '0__fft_coefficient__coeff_10__attr_\"angle\"'\n",
      " '0__fft_coefficient__coeff_10__attr_\"imag\"'\n",
      " '0__fft_coefficient__coeff_10__attr_\"real\"'\n",
      " '0__fft_coefficient__coeff_11__attr_\"abs\"'\n",
      " '0__fft_coefficient__coeff_11__attr_\"angle\"'\n",
      " '0__fft_coefficient__coeff_11__attr_\"imag\"'\n",
      " '0__fft_coefficient__coeff_11__attr_\"real\"'\n",
      " '0__fft_coefficient__coeff_12__attr_\"abs\"'\n",
      " '0__fft_coefficient__coeff_12__attr_\"angle\"'\n",
      " '0__fft_coefficient__coeff_12__attr_\"imag\"'\n",
      " '0__fft_coefficient__coeff_12__attr_\"real\"'\n",
      " '0__fft_coefficient__coeff_13__attr_\"abs\"'\n",
      " '0__fft_coefficient__coeff_13__attr_\"angle\"'\n",
      " '0__fft_coefficient__coeff_13__attr_\"imag\"'\n",
      " '0__fft_coefficient__coeff_13__attr_\"real\"'\n",
      " '0__fft_coefficient__coeff_14__attr_\"abs\"'\n",
      " '0__fft_coefficient__coeff_14__attr_\"angle\"'\n",
      " '0__fft_coefficient__coeff_14__attr_\"imag\"'\n",
      " '0__fft_coefficient__coeff_14__attr_\"real\"'\n",
      " '0__fft_coefficient__coeff_15__attr_\"abs\"'\n",
      " '0__fft_coefficient__coeff_15__attr_\"angle\"'\n",
      " '0__fft_coefficient__coeff_15__attr_\"imag\"'\n",
      " '0__fft_coefficient__coeff_15__attr_\"real\"'\n",
      " '0__fft_coefficient__coeff_16__attr_\"abs\"'\n",
      " '0__fft_coefficient__coeff_16__attr_\"angle\"'\n",
      " '0__fft_coefficient__coeff_16__attr_\"imag\"'\n",
      " '0__fft_coefficient__coeff_16__attr_\"real\"'\n",
      " '0__fft_coefficient__coeff_17__attr_\"abs\"'\n",
      " '0__fft_coefficient__coeff_17__attr_\"angle\"'\n",
      " '0__fft_coefficient__coeff_17__attr_\"imag\"'\n",
      " '0__fft_coefficient__coeff_17__attr_\"real\"'\n",
      " '0__fft_coefficient__coeff_18__attr_\"abs\"'\n",
      " '0__fft_coefficient__coeff_18__attr_\"angle\"'\n",
      " '0__fft_coefficient__coeff_18__attr_\"imag\"'\n",
      " '0__fft_coefficient__coeff_18__attr_\"real\"'\n",
      " '0__fft_coefficient__coeff_19__attr_\"abs\"'\n",
      " '0__fft_coefficient__coeff_19__attr_\"angle\"'\n",
      " '0__fft_coefficient__coeff_19__attr_\"imag\"'\n",
      " '0__fft_coefficient__coeff_19__attr_\"real\"'\n",
      " '0__fft_coefficient__coeff_20__attr_\"abs\"'\n",
      " '0__fft_coefficient__coeff_20__attr_\"angle\"'\n",
      " '0__fft_coefficient__coeff_20__attr_\"imag\"'\n",
      " '0__fft_coefficient__coeff_20__attr_\"real\"'\n",
      " '0__fft_coefficient__coeff_21__attr_\"abs\"'\n",
      " '0__fft_coefficient__coeff_21__attr_\"angle\"'\n",
      " '0__fft_coefficient__coeff_21__attr_\"imag\"'\n",
      " '0__fft_coefficient__coeff_21__attr_\"real\"'\n",
      " '0__fft_coefficient__coeff_22__attr_\"abs\"'\n",
      " '0__fft_coefficient__coeff_22__attr_\"angle\"'\n",
      " '0__fft_coefficient__coeff_22__attr_\"imag\"'\n",
      " '0__fft_coefficient__coeff_22__attr_\"real\"'\n",
      " '0__fft_coefficient__coeff_23__attr_\"abs\"'\n",
      " '0__fft_coefficient__coeff_23__attr_\"angle\"'\n",
      " '0__fft_coefficient__coeff_23__attr_\"imag\"'\n",
      " '0__fft_coefficient__coeff_23__attr_\"real\"'\n",
      " '0__fft_coefficient__coeff_24__attr_\"abs\"'\n",
      " '0__fft_coefficient__coeff_24__attr_\"angle\"'\n",
      " '0__fft_coefficient__coeff_24__attr_\"imag\"'\n",
      " '0__fft_coefficient__coeff_24__attr_\"real\"'\n",
      " '0__fft_coefficient__coeff_25__attr_\"abs\"'\n",
      " '0__fft_coefficient__coeff_25__attr_\"angle\"'\n",
      " '0__fft_coefficient__coeff_25__attr_\"imag\"'\n",
      " '0__fft_coefficient__coeff_25__attr_\"real\"'\n",
      " '0__fft_coefficient__coeff_26__attr_\"abs\"'\n",
      " '0__fft_coefficient__coeff_26__attr_\"angle\"'\n",
      " '0__fft_coefficient__coeff_26__attr_\"imag\"'\n",
      " '0__fft_coefficient__coeff_26__attr_\"real\"'\n",
      " '0__fft_coefficient__coeff_27__attr_\"abs\"'\n",
      " '0__fft_coefficient__coeff_27__attr_\"angle\"'\n",
      " '0__fft_coefficient__coeff_27__attr_\"imag\"'\n",
      " '0__fft_coefficient__coeff_27__attr_\"real\"'\n",
      " '0__fft_coefficient__coeff_28__attr_\"abs\"'\n",
      " '0__fft_coefficient__coeff_28__attr_\"angle\"'\n",
      " '0__fft_coefficient__coeff_28__attr_\"imag\"'\n",
      " '0__fft_coefficient__coeff_28__attr_\"real\"'\n",
      " '0__fft_coefficient__coeff_29__attr_\"abs\"'\n",
      " '0__fft_coefficient__coeff_29__attr_\"angle\"'\n",
      " '0__fft_coefficient__coeff_29__attr_\"imag\"'\n",
      " '0__fft_coefficient__coeff_29__attr_\"real\"'\n",
      " '0__fft_coefficient__coeff_30__attr_\"abs\"'\n",
      " '0__fft_coefficient__coeff_30__attr_\"angle\"'\n",
      " '0__fft_coefficient__coeff_30__attr_\"imag\"'\n",
      " '0__fft_coefficient__coeff_30__attr_\"real\"'\n",
      " '0__fft_coefficient__coeff_31__attr_\"abs\"'\n",
      " '0__fft_coefficient__coeff_31__attr_\"angle\"'\n",
      " '0__fft_coefficient__coeff_31__attr_\"imag\"'\n",
      " '0__fft_coefficient__coeff_31__attr_\"real\"'\n",
      " '0__fft_coefficient__coeff_32__attr_\"abs\"'\n",
      " '0__fft_coefficient__coeff_32__attr_\"angle\"'\n",
      " '0__fft_coefficient__coeff_32__attr_\"imag\"'\n",
      " '0__fft_coefficient__coeff_32__attr_\"real\"'\n",
      " '0__fft_coefficient__coeff_33__attr_\"abs\"'\n",
      " '0__fft_coefficient__coeff_33__attr_\"angle\"'\n",
      " '0__fft_coefficient__coeff_33__attr_\"imag\"'\n",
      " '0__fft_coefficient__coeff_33__attr_\"real\"'\n",
      " '0__fft_coefficient__coeff_34__attr_\"abs\"'\n",
      " '0__fft_coefficient__coeff_34__attr_\"angle\"'\n",
      " '0__fft_coefficient__coeff_34__attr_\"imag\"'\n",
      " '0__fft_coefficient__coeff_34__attr_\"real\"'\n",
      " '0__fft_coefficient__coeff_35__attr_\"abs\"'\n",
      " '0__fft_coefficient__coeff_35__attr_\"angle\"'\n",
      " '0__fft_coefficient__coeff_35__attr_\"imag\"'\n",
      " '0__fft_coefficient__coeff_35__attr_\"real\"'\n",
      " '0__fft_coefficient__coeff_36__attr_\"abs\"'\n",
      " '0__fft_coefficient__coeff_36__attr_\"angle\"'\n",
      " '0__fft_coefficient__coeff_36__attr_\"imag\"'\n",
      " '0__fft_coefficient__coeff_36__attr_\"real\"'\n",
      " '0__fft_coefficient__coeff_37__attr_\"abs\"'\n",
      " '0__fft_coefficient__coeff_37__attr_\"angle\"'\n",
      " '0__fft_coefficient__coeff_37__attr_\"imag\"'\n",
      " '0__fft_coefficient__coeff_37__attr_\"real\"'\n",
      " '0__fft_coefficient__coeff_38__attr_\"abs\"'\n",
      " '0__fft_coefficient__coeff_38__attr_\"angle\"'\n",
      " '0__fft_coefficient__coeff_38__attr_\"imag\"'\n",
      " '0__fft_coefficient__coeff_38__attr_\"real\"'\n",
      " '0__fft_coefficient__coeff_39__attr_\"abs\"'\n",
      " '0__fft_coefficient__coeff_39__attr_\"angle\"'\n",
      " '0__fft_coefficient__coeff_39__attr_\"imag\"'\n",
      " '0__fft_coefficient__coeff_39__attr_\"real\"'\n",
      " '0__fft_coefficient__coeff_40__attr_\"abs\"'\n",
      " '0__fft_coefficient__coeff_40__attr_\"angle\"'\n",
      " '0__fft_coefficient__coeff_40__attr_\"imag\"'\n",
      " '0__fft_coefficient__coeff_40__attr_\"real\"'\n",
      " '0__fft_coefficient__coeff_41__attr_\"abs\"'\n",
      " '0__fft_coefficient__coeff_41__attr_\"angle\"'\n",
      " '0__fft_coefficient__coeff_41__attr_\"imag\"'\n",
      " '0__fft_coefficient__coeff_41__attr_\"real\"'\n",
      " '0__fft_coefficient__coeff_42__attr_\"abs\"'\n",
      " '0__fft_coefficient__coeff_42__attr_\"angle\"'\n",
      " '0__fft_coefficient__coeff_42__attr_\"imag\"'\n",
      " '0__fft_coefficient__coeff_42__attr_\"real\"'\n",
      " '0__fft_coefficient__coeff_43__attr_\"abs\"'\n",
      " '0__fft_coefficient__coeff_43__attr_\"angle\"'\n",
      " '0__fft_coefficient__coeff_43__attr_\"imag\"'\n",
      " '0__fft_coefficient__coeff_43__attr_\"real\"'\n",
      " '0__fft_coefficient__coeff_44__attr_\"abs\"'\n",
      " '0__fft_coefficient__coeff_44__attr_\"angle\"'\n",
      " '0__fft_coefficient__coeff_44__attr_\"imag\"'\n",
      " '0__fft_coefficient__coeff_44__attr_\"real\"'\n",
      " '0__fft_coefficient__coeff_45__attr_\"abs\"'\n",
      " '0__fft_coefficient__coeff_45__attr_\"angle\"'\n",
      " '0__fft_coefficient__coeff_45__attr_\"imag\"'\n",
      " '0__fft_coefficient__coeff_45__attr_\"real\"'\n",
      " '0__fft_coefficient__coeff_46__attr_\"abs\"'\n",
      " '0__fft_coefficient__coeff_46__attr_\"angle\"'\n",
      " '0__fft_coefficient__coeff_46__attr_\"imag\"'\n",
      " '0__fft_coefficient__coeff_46__attr_\"real\"'\n",
      " '0__fft_coefficient__coeff_47__attr_\"abs\"'\n",
      " '0__fft_coefficient__coeff_47__attr_\"angle\"'\n",
      " '0__fft_coefficient__coeff_47__attr_\"imag\"'\n",
      " '0__fft_coefficient__coeff_47__attr_\"real\"'\n",
      " '0__fft_coefficient__coeff_48__attr_\"abs\"'\n",
      " '0__fft_coefficient__coeff_48__attr_\"angle\"'\n",
      " '0__fft_coefficient__coeff_48__attr_\"imag\"'\n",
      " '0__fft_coefficient__coeff_48__attr_\"real\"'\n",
      " '0__fft_coefficient__coeff_49__attr_\"abs\"'\n",
      " '0__fft_coefficient__coeff_49__attr_\"angle\"'\n",
      " '0__fft_coefficient__coeff_49__attr_\"imag\"'\n",
      " '0__fft_coefficient__coeff_49__attr_\"real\"'\n",
      " '0__fft_coefficient__coeff_50__attr_\"abs\"'\n",
      " '0__fft_coefficient__coeff_50__attr_\"angle\"'\n",
      " '0__fft_coefficient__coeff_50__attr_\"imag\"'\n",
      " '0__fft_coefficient__coeff_50__attr_\"real\"'\n",
      " '0__fft_coefficient__coeff_51__attr_\"abs\"'\n",
      " '0__fft_coefficient__coeff_51__attr_\"angle\"'\n",
      " '0__fft_coefficient__coeff_51__attr_\"imag\"'\n",
      " '0__fft_coefficient__coeff_51__attr_\"real\"'\n",
      " '0__fft_coefficient__coeff_52__attr_\"abs\"'\n",
      " '0__fft_coefficient__coeff_52__attr_\"angle\"'\n",
      " '0__fft_coefficient__coeff_52__attr_\"imag\"'\n",
      " '0__fft_coefficient__coeff_52__attr_\"real\"'\n",
      " '0__fft_coefficient__coeff_53__attr_\"abs\"'\n",
      " '0__fft_coefficient__coeff_53__attr_\"angle\"'\n",
      " '0__fft_coefficient__coeff_53__attr_\"imag\"'\n",
      " '0__fft_coefficient__coeff_53__attr_\"real\"'\n",
      " '0__fft_coefficient__coeff_54__attr_\"abs\"'\n",
      " '0__fft_coefficient__coeff_54__attr_\"angle\"'\n",
      " '0__fft_coefficient__coeff_54__attr_\"imag\"'\n",
      " '0__fft_coefficient__coeff_54__attr_\"real\"'\n",
      " '0__fft_coefficient__coeff_55__attr_\"abs\"'\n",
      " '0__fft_coefficient__coeff_55__attr_\"angle\"'\n",
      " '0__fft_coefficient__coeff_55__attr_\"imag\"'\n",
      " '0__fft_coefficient__coeff_55__attr_\"real\"'\n",
      " '0__fft_coefficient__coeff_56__attr_\"abs\"'\n",
      " '0__fft_coefficient__coeff_56__attr_\"angle\"'\n",
      " '0__fft_coefficient__coeff_56__attr_\"imag\"'\n",
      " '0__fft_coefficient__coeff_56__attr_\"real\"'\n",
      " '0__fft_coefficient__coeff_57__attr_\"abs\"'\n",
      " '0__fft_coefficient__coeff_57__attr_\"angle\"'\n",
      " '0__fft_coefficient__coeff_57__attr_\"imag\"'\n",
      " '0__fft_coefficient__coeff_57__attr_\"real\"'\n",
      " '0__fft_coefficient__coeff_58__attr_\"abs\"'\n",
      " '0__fft_coefficient__coeff_58__attr_\"angle\"'\n",
      " '0__fft_coefficient__coeff_58__attr_\"imag\"'\n",
      " '0__fft_coefficient__coeff_58__attr_\"real\"'\n",
      " '0__fft_coefficient__coeff_59__attr_\"abs\"'\n",
      " '0__fft_coefficient__coeff_59__attr_\"angle\"'\n",
      " '0__fft_coefficient__coeff_59__attr_\"imag\"'\n",
      " '0__fft_coefficient__coeff_59__attr_\"real\"'\n",
      " '0__fft_coefficient__coeff_60__attr_\"abs\"'\n",
      " '0__fft_coefficient__coeff_60__attr_\"angle\"'\n",
      " '0__fft_coefficient__coeff_60__attr_\"imag\"'\n",
      " '0__fft_coefficient__coeff_60__attr_\"real\"'\n",
      " '0__fft_coefficient__coeff_61__attr_\"abs\"'\n",
      " '0__fft_coefficient__coeff_61__attr_\"angle\"'\n",
      " '0__fft_coefficient__coeff_61__attr_\"imag\"'\n",
      " '0__fft_coefficient__coeff_61__attr_\"real\"'\n",
      " '0__fft_coefficient__coeff_62__attr_\"abs\"'\n",
      " '0__fft_coefficient__coeff_62__attr_\"angle\"'\n",
      " '0__fft_coefficient__coeff_62__attr_\"imag\"'\n",
      " '0__fft_coefficient__coeff_62__attr_\"real\"'\n",
      " '0__fft_coefficient__coeff_63__attr_\"abs\"'\n",
      " '0__fft_coefficient__coeff_63__attr_\"angle\"'\n",
      " '0__fft_coefficient__coeff_63__attr_\"imag\"'\n",
      " '0__fft_coefficient__coeff_63__attr_\"real\"'\n",
      " '0__fft_coefficient__coeff_64__attr_\"abs\"'\n",
      " '0__fft_coefficient__coeff_64__attr_\"angle\"'\n",
      " '0__fft_coefficient__coeff_64__attr_\"imag\"'\n",
      " '0__fft_coefficient__coeff_64__attr_\"real\"'\n",
      " '0__fft_coefficient__coeff_65__attr_\"abs\"'\n",
      " '0__fft_coefficient__coeff_65__attr_\"angle\"'\n",
      " '0__fft_coefficient__coeff_65__attr_\"imag\"'\n",
      " '0__fft_coefficient__coeff_65__attr_\"real\"'\n",
      " '0__fft_coefficient__coeff_66__attr_\"abs\"'\n",
      " '0__fft_coefficient__coeff_66__attr_\"angle\"'\n",
      " '0__fft_coefficient__coeff_66__attr_\"imag\"'\n",
      " '0__fft_coefficient__coeff_66__attr_\"real\"'\n",
      " '0__fft_coefficient__coeff_67__attr_\"abs\"'\n",
      " '0__fft_coefficient__coeff_67__attr_\"angle\"'\n",
      " '0__fft_coefficient__coeff_67__attr_\"imag\"'\n",
      " '0__fft_coefficient__coeff_67__attr_\"real\"'\n",
      " '0__fft_coefficient__coeff_68__attr_\"abs\"'\n",
      " '0__fft_coefficient__coeff_68__attr_\"angle\"'\n",
      " '0__fft_coefficient__coeff_68__attr_\"imag\"'\n",
      " '0__fft_coefficient__coeff_68__attr_\"real\"'\n",
      " '0__fft_coefficient__coeff_69__attr_\"abs\"'\n",
      " '0__fft_coefficient__coeff_69__attr_\"angle\"'\n",
      " '0__fft_coefficient__coeff_69__attr_\"imag\"'\n",
      " '0__fft_coefficient__coeff_69__attr_\"real\"'\n",
      " '0__fft_coefficient__coeff_6__attr_\"abs\"'\n",
      " '0__fft_coefficient__coeff_6__attr_\"angle\"'\n",
      " '0__fft_coefficient__coeff_6__attr_\"imag\"'\n",
      " '0__fft_coefficient__coeff_6__attr_\"real\"'\n",
      " '0__fft_coefficient__coeff_70__attr_\"abs\"'\n",
      " '0__fft_coefficient__coeff_70__attr_\"angle\"'\n",
      " '0__fft_coefficient__coeff_70__attr_\"imag\"'\n",
      " '0__fft_coefficient__coeff_70__attr_\"real\"'\n",
      " '0__fft_coefficient__coeff_71__attr_\"abs\"'\n",
      " '0__fft_coefficient__coeff_71__attr_\"angle\"'\n",
      " '0__fft_coefficient__coeff_71__attr_\"imag\"'\n",
      " '0__fft_coefficient__coeff_71__attr_\"real\"'\n",
      " '0__fft_coefficient__coeff_72__attr_\"abs\"'\n",
      " '0__fft_coefficient__coeff_72__attr_\"angle\"'\n",
      " '0__fft_coefficient__coeff_72__attr_\"imag\"'\n",
      " '0__fft_coefficient__coeff_72__attr_\"real\"'\n",
      " '0__fft_coefficient__coeff_73__attr_\"abs\"'\n",
      " '0__fft_coefficient__coeff_73__attr_\"angle\"'\n",
      " '0__fft_coefficient__coeff_73__attr_\"imag\"'\n",
      " '0__fft_coefficient__coeff_73__attr_\"real\"'\n",
      " '0__fft_coefficient__coeff_74__attr_\"abs\"'\n",
      " '0__fft_coefficient__coeff_74__attr_\"angle\"'\n",
      " '0__fft_coefficient__coeff_74__attr_\"imag\"'\n",
      " '0__fft_coefficient__coeff_74__attr_\"real\"'\n",
      " '0__fft_coefficient__coeff_75__attr_\"abs\"'\n",
      " '0__fft_coefficient__coeff_75__attr_\"angle\"'\n",
      " '0__fft_coefficient__coeff_75__attr_\"imag\"'\n",
      " '0__fft_coefficient__coeff_75__attr_\"real\"'\n",
      " '0__fft_coefficient__coeff_76__attr_\"abs\"'\n",
      " '0__fft_coefficient__coeff_76__attr_\"angle\"'\n",
      " '0__fft_coefficient__coeff_76__attr_\"imag\"'\n",
      " '0__fft_coefficient__coeff_76__attr_\"real\"'\n",
      " '0__fft_coefficient__coeff_77__attr_\"abs\"'\n",
      " '0__fft_coefficient__coeff_77__attr_\"angle\"'\n",
      " '0__fft_coefficient__coeff_77__attr_\"imag\"'\n",
      " '0__fft_coefficient__coeff_77__attr_\"real\"'\n",
      " '0__fft_coefficient__coeff_78__attr_\"abs\"'\n",
      " '0__fft_coefficient__coeff_78__attr_\"angle\"'\n",
      " '0__fft_coefficient__coeff_78__attr_\"imag\"'\n",
      " '0__fft_coefficient__coeff_78__attr_\"real\"'\n",
      " '0__fft_coefficient__coeff_79__attr_\"abs\"'\n",
      " '0__fft_coefficient__coeff_79__attr_\"angle\"'\n",
      " '0__fft_coefficient__coeff_79__attr_\"imag\"'\n",
      " '0__fft_coefficient__coeff_79__attr_\"real\"'\n",
      " '0__fft_coefficient__coeff_7__attr_\"abs\"'\n",
      " '0__fft_coefficient__coeff_7__attr_\"angle\"'\n",
      " '0__fft_coefficient__coeff_7__attr_\"imag\"'\n",
      " '0__fft_coefficient__coeff_7__attr_\"real\"'\n",
      " '0__fft_coefficient__coeff_80__attr_\"abs\"'\n",
      " '0__fft_coefficient__coeff_80__attr_\"angle\"'\n",
      " '0__fft_coefficient__coeff_80__attr_\"imag\"'\n",
      " '0__fft_coefficient__coeff_80__attr_\"real\"'\n",
      " '0__fft_coefficient__coeff_81__attr_\"abs\"'\n",
      " '0__fft_coefficient__coeff_81__attr_\"angle\"'\n",
      " '0__fft_coefficient__coeff_81__attr_\"imag\"'\n",
      " '0__fft_coefficient__coeff_81__attr_\"real\"'\n",
      " '0__fft_coefficient__coeff_82__attr_\"abs\"'\n",
      " '0__fft_coefficient__coeff_82__attr_\"angle\"'\n",
      " '0__fft_coefficient__coeff_82__attr_\"imag\"'\n",
      " '0__fft_coefficient__coeff_82__attr_\"real\"'\n",
      " '0__fft_coefficient__coeff_83__attr_\"abs\"'\n",
      " '0__fft_coefficient__coeff_83__attr_\"angle\"'\n",
      " '0__fft_coefficient__coeff_83__attr_\"imag\"'\n",
      " '0__fft_coefficient__coeff_83__attr_\"real\"'\n",
      " '0__fft_coefficient__coeff_84__attr_\"abs\"'\n",
      " '0__fft_coefficient__coeff_84__attr_\"angle\"'\n",
      " '0__fft_coefficient__coeff_84__attr_\"imag\"'\n",
      " '0__fft_coefficient__coeff_84__attr_\"real\"'\n",
      " '0__fft_coefficient__coeff_85__attr_\"abs\"'\n",
      " '0__fft_coefficient__coeff_85__attr_\"angle\"'\n",
      " '0__fft_coefficient__coeff_85__attr_\"imag\"'\n",
      " '0__fft_coefficient__coeff_85__attr_\"real\"'\n",
      " '0__fft_coefficient__coeff_86__attr_\"abs\"'\n",
      " '0__fft_coefficient__coeff_86__attr_\"angle\"'\n",
      " '0__fft_coefficient__coeff_86__attr_\"imag\"'\n",
      " '0__fft_coefficient__coeff_86__attr_\"real\"'\n",
      " '0__fft_coefficient__coeff_87__attr_\"abs\"'\n",
      " '0__fft_coefficient__coeff_87__attr_\"angle\"'\n",
      " '0__fft_coefficient__coeff_87__attr_\"imag\"'\n",
      " '0__fft_coefficient__coeff_87__attr_\"real\"'\n",
      " '0__fft_coefficient__coeff_88__attr_\"abs\"'\n",
      " '0__fft_coefficient__coeff_88__attr_\"angle\"'\n",
      " '0__fft_coefficient__coeff_88__attr_\"imag\"'\n",
      " '0__fft_coefficient__coeff_88__attr_\"real\"'\n",
      " '0__fft_coefficient__coeff_89__attr_\"abs\"'\n",
      " '0__fft_coefficient__coeff_89__attr_\"angle\"'\n",
      " '0__fft_coefficient__coeff_89__attr_\"imag\"'\n",
      " '0__fft_coefficient__coeff_89__attr_\"real\"'\n",
      " '0__fft_coefficient__coeff_8__attr_\"abs\"'\n",
      " '0__fft_coefficient__coeff_8__attr_\"angle\"'\n",
      " '0__fft_coefficient__coeff_8__attr_\"imag\"'\n",
      " '0__fft_coefficient__coeff_8__attr_\"real\"'\n",
      " '0__fft_coefficient__coeff_90__attr_\"abs\"'\n",
      " '0__fft_coefficient__coeff_90__attr_\"angle\"'\n",
      " '0__fft_coefficient__coeff_90__attr_\"imag\"'\n",
      " '0__fft_coefficient__coeff_90__attr_\"real\"'\n",
      " '0__fft_coefficient__coeff_91__attr_\"abs\"'\n",
      " '0__fft_coefficient__coeff_91__attr_\"angle\"'\n",
      " '0__fft_coefficient__coeff_91__attr_\"imag\"'\n",
      " '0__fft_coefficient__coeff_91__attr_\"real\"'\n",
      " '0__fft_coefficient__coeff_92__attr_\"abs\"'\n",
      " '0__fft_coefficient__coeff_92__attr_\"angle\"'\n",
      " '0__fft_coefficient__coeff_92__attr_\"imag\"'\n",
      " '0__fft_coefficient__coeff_92__attr_\"real\"'\n",
      " '0__fft_coefficient__coeff_93__attr_\"abs\"'\n",
      " '0__fft_coefficient__coeff_93__attr_\"angle\"'\n",
      " '0__fft_coefficient__coeff_93__attr_\"imag\"'\n",
      " '0__fft_coefficient__coeff_93__attr_\"real\"'\n",
      " '0__fft_coefficient__coeff_94__attr_\"abs\"'\n",
      " '0__fft_coefficient__coeff_94__attr_\"angle\"'\n",
      " '0__fft_coefficient__coeff_94__attr_\"imag\"'\n",
      " '0__fft_coefficient__coeff_94__attr_\"real\"'\n",
      " '0__fft_coefficient__coeff_95__attr_\"abs\"'\n",
      " '0__fft_coefficient__coeff_95__attr_\"angle\"'\n",
      " '0__fft_coefficient__coeff_95__attr_\"imag\"'\n",
      " '0__fft_coefficient__coeff_95__attr_\"real\"'\n",
      " '0__fft_coefficient__coeff_96__attr_\"abs\"'\n",
      " '0__fft_coefficient__coeff_96__attr_\"angle\"'\n",
      " '0__fft_coefficient__coeff_96__attr_\"imag\"'\n",
      " '0__fft_coefficient__coeff_96__attr_\"real\"'\n",
      " '0__fft_coefficient__coeff_97__attr_\"abs\"'\n",
      " '0__fft_coefficient__coeff_97__attr_\"angle\"'\n",
      " '0__fft_coefficient__coeff_97__attr_\"imag\"'\n",
      " '0__fft_coefficient__coeff_97__attr_\"real\"'\n",
      " '0__fft_coefficient__coeff_98__attr_\"abs\"'\n",
      " '0__fft_coefficient__coeff_98__attr_\"angle\"'\n",
      " '0__fft_coefficient__coeff_98__attr_\"imag\"'\n",
      " '0__fft_coefficient__coeff_98__attr_\"real\"'\n",
      " '0__fft_coefficient__coeff_99__attr_\"abs\"'\n",
      " '0__fft_coefficient__coeff_99__attr_\"angle\"'\n",
      " '0__fft_coefficient__coeff_99__attr_\"imag\"'\n",
      " '0__fft_coefficient__coeff_99__attr_\"real\"'\n",
      " '0__fft_coefficient__coeff_9__attr_\"abs\"'\n",
      " '0__fft_coefficient__coeff_9__attr_\"angle\"'\n",
      " '0__fft_coefficient__coeff_9__attr_\"imag\"'\n",
      " '0__fft_coefficient__coeff_9__attr_\"real\"'\n",
      " '0__spkt_welch_density__coeff_8'] did not have any finite values. Filling with zeros.\n",
      "WARNING:tsfresh.feature_selection.relevance:Infered classification as machine learning task\n"
     ]
    }
   ],
   "source": [
    "# Use tsfresh to extract features\n",
    "import tsfresh as tsf\n",
    "irak1_features = tsf.extract_features(irak1_reshape, column_id=\"cell\", column_sort=\"time\")\n",
    "\n",
    "# This function fills in NaN values in the extracted features\n",
    "tsf.utilities.dataframe_functions.impute(irak1_features)\n",
    "\n",
    "# Select a subset of the features that are imformative about the ASC speck status\n",
    "irak1_features_filt = tsf.select_features(irak1_features, ascspeck_TF, fdr_level=0.5)"
   ]
  },
  {
   "cell_type": "code",
   "execution_count": 31,
   "metadata": {
    "colab": {
     "base_uri": "https://localhost:8080/",
     "height": 346
    },
    "colab_type": "code",
    "id": "G6SF6QQ46imY",
    "outputId": "31cd2d9a-f668-4719-f672-6b33919499d9"
   },
   "outputs": [
    {
     "data": {
      "text/html": [
       "<div>\n",
       "<style scoped>\n",
       "    .dataframe tbody tr th:only-of-type {\n",
       "        vertical-align: middle;\n",
       "    }\n",
       "\n",
       "    .dataframe tbody tr th {\n",
       "        vertical-align: top;\n",
       "    }\n",
       "\n",
       "    .dataframe thead th {\n",
       "        text-align: right;\n",
       "    }\n",
       "</style>\n",
       "<table border=\"1\" class=\"dataframe\">\n",
       "  <thead>\n",
       "    <tr style=\"text-align: right;\">\n",
       "      <th>variable</th>\n",
       "      <th>0__c3__lag_3</th>\n",
       "      <th>0__quantile__q_0.4</th>\n",
       "      <th>0__change_quantiles__f_agg_\"mean\"__isabs_True__qh_0.6__ql_0.4</th>\n",
       "      <th>0__quantile__q_0.6</th>\n",
       "      <th>0__change_quantiles__f_agg_\"var\"__isabs_False__qh_0.6__ql_0.0</th>\n",
       "      <th>0__change_quantiles__f_agg_\"mean\"__isabs_True__qh_0.6__ql_0.2</th>\n",
       "      <th>0__change_quantiles__f_agg_\"mean\"__isabs_True__qh_0.6__ql_0.0</th>\n",
       "      <th>0__change_quantiles__f_agg_\"mean\"__isabs_True__qh_0.4__ql_0.0</th>\n",
       "      <th>0__change_quantiles__f_agg_\"var\"__isabs_True__qh_0.6__ql_0.2</th>\n",
       "      <th>0__change_quantiles__f_agg_\"mean\"__isabs_True__qh_0.2__ql_0.0</th>\n",
       "      <th>...</th>\n",
       "      <th>0__median</th>\n",
       "      <th>0__energy_ratio_by_chunks__num_segments_10__segment_focus_2</th>\n",
       "      <th>0__percentage_of_reoccurring_values_to_all_values</th>\n",
       "      <th>0__percentage_of_reoccurring_datapoints_to_all_datapoints</th>\n",
       "      <th>0__ratio_value_number_to_time_series_length</th>\n",
       "      <th>0__range_count__max_1__min_-1</th>\n",
       "      <th>0__value_count__value_0</th>\n",
       "      <th>0__agg_linear_trend__f_agg_\"min\"__chunk_len_5__attr_\"intercept\"</th>\n",
       "      <th>0__quantile__q_0.2</th>\n",
       "      <th>0__cwt_coefficients__widths_(2, 5, 10, 20)__coeff_1__w_20</th>\n",
       "    </tr>\n",
       "    <tr>\n",
       "      <th>id</th>\n",
       "      <th></th>\n",
       "      <th></th>\n",
       "      <th></th>\n",
       "      <th></th>\n",
       "      <th></th>\n",
       "      <th></th>\n",
       "      <th></th>\n",
       "      <th></th>\n",
       "      <th></th>\n",
       "      <th></th>\n",
       "      <th></th>\n",
       "      <th></th>\n",
       "      <th></th>\n",
       "      <th></th>\n",
       "      <th></th>\n",
       "      <th></th>\n",
       "      <th></th>\n",
       "      <th></th>\n",
       "      <th></th>\n",
       "      <th></th>\n",
       "      <th></th>\n",
       "    </tr>\n",
       "  </thead>\n",
       "  <tbody>\n",
       "    <tr>\n",
       "      <th>('C5', 1, 109)</th>\n",
       "      <td>2.328233e+12</td>\n",
       "      <td>7339.0</td>\n",
       "      <td>3766.0</td>\n",
       "      <td>11105.0</td>\n",
       "      <td>1.065679e+07</td>\n",
       "      <td>2184.333333</td>\n",
       "      <td>2984.600000</td>\n",
       "      <td>2107.0</td>\n",
       "      <td>1.251415e+06</td>\n",
       "      <td>3534.0</td>\n",
       "      <td>...</td>\n",
       "      <td>8370.0</td>\n",
       "      <td>0.120156</td>\n",
       "      <td>0.000000</td>\n",
       "      <td>0.000000</td>\n",
       "      <td>1.000000</td>\n",
       "      <td>1.0</td>\n",
       "      <td>1.0</td>\n",
       "      <td>1213.333333</td>\n",
       "      <td>4552.0</td>\n",
       "      <td>27708.723086</td>\n",
       "    </tr>\n",
       "    <tr>\n",
       "      <th>('C5', 1, 127)</th>\n",
       "      <td>0.000000e+00</td>\n",
       "      <td>0.0</td>\n",
       "      <td>10.5</td>\n",
       "      <td>4331.0</td>\n",
       "      <td>3.307500e+02</td>\n",
       "      <td>10.500000</td>\n",
       "      <td>10.500000</td>\n",
       "      <td>0.0</td>\n",
       "      <td>3.307500e+02</td>\n",
       "      <td>0.0</td>\n",
       "      <td>...</td>\n",
       "      <td>4289.0</td>\n",
       "      <td>0.020319</td>\n",
       "      <td>0.454545</td>\n",
       "      <td>0.142857</td>\n",
       "      <td>0.636364</td>\n",
       "      <td>5.0</td>\n",
       "      <td>5.0</td>\n",
       "      <td>0.000000</td>\n",
       "      <td>0.0</td>\n",
       "      <td>7329.553775</td>\n",
       "    </tr>\n",
       "    <tr>\n",
       "      <th>('C5', 1, 147)</th>\n",
       "      <td>8.201822e+11</td>\n",
       "      <td>8363.0</td>\n",
       "      <td>0.0</td>\n",
       "      <td>8944.0</td>\n",
       "      <td>2.240030e+07</td>\n",
       "      <td>2016.000000</td>\n",
       "      <td>4126.600000</td>\n",
       "      <td>4566.0</td>\n",
       "      <td>1.246090e+05</td>\n",
       "      <td>3527.0</td>\n",
       "      <td>...</td>\n",
       "      <td>8479.0</td>\n",
       "      <td>0.133944</td>\n",
       "      <td>0.000000</td>\n",
       "      <td>0.000000</td>\n",
       "      <td>1.000000</td>\n",
       "      <td>1.0</td>\n",
       "      <td>1.0</td>\n",
       "      <td>5672.000000</td>\n",
       "      <td>6575.0</td>\n",
       "      <td>15040.871178</td>\n",
       "    </tr>\n",
       "    <tr>\n",
       "      <th>('C5', 1, 165)</th>\n",
       "      <td>1.371826e+11</td>\n",
       "      <td>3186.0</td>\n",
       "      <td>390.0</td>\n",
       "      <td>7384.0</td>\n",
       "      <td>1.113882e+07</td>\n",
       "      <td>2114.000000</td>\n",
       "      <td>2114.000000</td>\n",
       "      <td>1062.0</td>\n",
       "      <td>7.374750e+06</td>\n",
       "      <td>0.0</td>\n",
       "      <td>...</td>\n",
       "      <td>6994.0</td>\n",
       "      <td>0.180095</td>\n",
       "      <td>0.272727</td>\n",
       "      <td>0.111111</td>\n",
       "      <td>0.818182</td>\n",
       "      <td>3.0</td>\n",
       "      <td>3.0</td>\n",
       "      <td>1195.666667</td>\n",
       "      <td>0.0</td>\n",
       "      <td>12105.247565</td>\n",
       "    </tr>\n",
       "    <tr>\n",
       "      <th>('C5', 1, 17)</th>\n",
       "      <td>7.753939e+09</td>\n",
       "      <td>1600.0</td>\n",
       "      <td>0.0</td>\n",
       "      <td>1758.0</td>\n",
       "      <td>6.400487e+05</td>\n",
       "      <td>574.333333</td>\n",
       "      <td>574.333333</td>\n",
       "      <td>26.5</td>\n",
       "      <td>6.007109e+05</td>\n",
       "      <td>0.0</td>\n",
       "      <td>...</td>\n",
       "      <td>1670.0</td>\n",
       "      <td>0.058609</td>\n",
       "      <td>0.272727</td>\n",
       "      <td>0.111111</td>\n",
       "      <td>0.818182</td>\n",
       "      <td>3.0</td>\n",
       "      <td>3.0</td>\n",
       "      <td>0.000000</td>\n",
       "      <td>0.0</td>\n",
       "      <td>2530.853459</td>\n",
       "    </tr>\n",
       "  </tbody>\n",
       "</table>\n",
       "<p>5 rows × 43 columns</p>\n",
       "</div>"
      ],
      "text/plain": [
       "variable        0__c3__lag_3  0__quantile__q_0.4  \\\n",
       "id                                                 \n",
       "('C5', 1, 109)  2.328233e+12              7339.0   \n",
       "('C5', 1, 127)  0.000000e+00                 0.0   \n",
       "('C5', 1, 147)  8.201822e+11              8363.0   \n",
       "('C5', 1, 165)  1.371826e+11              3186.0   \n",
       "('C5', 1, 17)   7.753939e+09              1600.0   \n",
       "\n",
       "variable        0__change_quantiles__f_agg_\"mean\"__isabs_True__qh_0.6__ql_0.4  \\\n",
       "id                                                                              \n",
       "('C5', 1, 109)                                             3766.0               \n",
       "('C5', 1, 127)                                               10.5               \n",
       "('C5', 1, 147)                                                0.0               \n",
       "('C5', 1, 165)                                              390.0               \n",
       "('C5', 1, 17)                                                 0.0               \n",
       "\n",
       "variable        0__quantile__q_0.6  \\\n",
       "id                                   \n",
       "('C5', 1, 109)             11105.0   \n",
       "('C5', 1, 127)              4331.0   \n",
       "('C5', 1, 147)              8944.0   \n",
       "('C5', 1, 165)              7384.0   \n",
       "('C5', 1, 17)               1758.0   \n",
       "\n",
       "variable        0__change_quantiles__f_agg_\"var\"__isabs_False__qh_0.6__ql_0.0  \\\n",
       "id                                                                              \n",
       "('C5', 1, 109)                                       1.065679e+07               \n",
       "('C5', 1, 127)                                       3.307500e+02               \n",
       "('C5', 1, 147)                                       2.240030e+07               \n",
       "('C5', 1, 165)                                       1.113882e+07               \n",
       "('C5', 1, 17)                                        6.400487e+05               \n",
       "\n",
       "variable        0__change_quantiles__f_agg_\"mean\"__isabs_True__qh_0.6__ql_0.2  \\\n",
       "id                                                                              \n",
       "('C5', 1, 109)                                        2184.333333               \n",
       "('C5', 1, 127)                                          10.500000               \n",
       "('C5', 1, 147)                                        2016.000000               \n",
       "('C5', 1, 165)                                        2114.000000               \n",
       "('C5', 1, 17)                                          574.333333               \n",
       "\n",
       "variable        0__change_quantiles__f_agg_\"mean\"__isabs_True__qh_0.6__ql_0.0  \\\n",
       "id                                                                              \n",
       "('C5', 1, 109)                                        2984.600000               \n",
       "('C5', 1, 127)                                          10.500000               \n",
       "('C5', 1, 147)                                        4126.600000               \n",
       "('C5', 1, 165)                                        2114.000000               \n",
       "('C5', 1, 17)                                          574.333333               \n",
       "\n",
       "variable        0__change_quantiles__f_agg_\"mean\"__isabs_True__qh_0.4__ql_0.0  \\\n",
       "id                                                                              \n",
       "('C5', 1, 109)                                             2107.0               \n",
       "('C5', 1, 127)                                                0.0               \n",
       "('C5', 1, 147)                                             4566.0               \n",
       "('C5', 1, 165)                                             1062.0               \n",
       "('C5', 1, 17)                                                26.5               \n",
       "\n",
       "variable        0__change_quantiles__f_agg_\"var\"__isabs_True__qh_0.6__ql_0.2  \\\n",
       "id                                                                             \n",
       "('C5', 1, 109)                                       1.251415e+06              \n",
       "('C5', 1, 127)                                       3.307500e+02              \n",
       "('C5', 1, 147)                                       1.246090e+05              \n",
       "('C5', 1, 165)                                       7.374750e+06              \n",
       "('C5', 1, 17)                                        6.007109e+05              \n",
       "\n",
       "variable        0__change_quantiles__f_agg_\"mean\"__isabs_True__qh_0.2__ql_0.0  \\\n",
       "id                                                                              \n",
       "('C5', 1, 109)                                             3534.0               \n",
       "('C5', 1, 127)                                                0.0               \n",
       "('C5', 1, 147)                                             3527.0               \n",
       "('C5', 1, 165)                                                0.0               \n",
       "('C5', 1, 17)                                                 0.0               \n",
       "\n",
       "variable                                  ...                              \\\n",
       "id                                        ...                               \n",
       "('C5', 1, 109)                            ...                               \n",
       "('C5', 1, 127)                            ...                               \n",
       "('C5', 1, 147)                            ...                               \n",
       "('C5', 1, 165)                            ...                               \n",
       "('C5', 1, 17)                             ...                               \n",
       "\n",
       "variable        0__median  \\\n",
       "id                          \n",
       "('C5', 1, 109)     8370.0   \n",
       "('C5', 1, 127)     4289.0   \n",
       "('C5', 1, 147)     8479.0   \n",
       "('C5', 1, 165)     6994.0   \n",
       "('C5', 1, 17)      1670.0   \n",
       "\n",
       "variable        0__energy_ratio_by_chunks__num_segments_10__segment_focus_2  \\\n",
       "id                                                                            \n",
       "('C5', 1, 109)                                           0.120156             \n",
       "('C5', 1, 127)                                           0.020319             \n",
       "('C5', 1, 147)                                           0.133944             \n",
       "('C5', 1, 165)                                           0.180095             \n",
       "('C5', 1, 17)                                            0.058609             \n",
       "\n",
       "variable        0__percentage_of_reoccurring_values_to_all_values  \\\n",
       "id                                                                  \n",
       "('C5', 1, 109)                                           0.000000   \n",
       "('C5', 1, 127)                                           0.454545   \n",
       "('C5', 1, 147)                                           0.000000   \n",
       "('C5', 1, 165)                                           0.272727   \n",
       "('C5', 1, 17)                                            0.272727   \n",
       "\n",
       "variable        0__percentage_of_reoccurring_datapoints_to_all_datapoints  \\\n",
       "id                                                                          \n",
       "('C5', 1, 109)                                           0.000000           \n",
       "('C5', 1, 127)                                           0.142857           \n",
       "('C5', 1, 147)                                           0.000000           \n",
       "('C5', 1, 165)                                           0.111111           \n",
       "('C5', 1, 17)                                            0.111111           \n",
       "\n",
       "variable        0__ratio_value_number_to_time_series_length  \\\n",
       "id                                                            \n",
       "('C5', 1, 109)                                     1.000000   \n",
       "('C5', 1, 127)                                     0.636364   \n",
       "('C5', 1, 147)                                     1.000000   \n",
       "('C5', 1, 165)                                     0.818182   \n",
       "('C5', 1, 17)                                      0.818182   \n",
       "\n",
       "variable        0__range_count__max_1__min_-1  0__value_count__value_0  \\\n",
       "id                                                                       \n",
       "('C5', 1, 109)                            1.0                      1.0   \n",
       "('C5', 1, 127)                            5.0                      5.0   \n",
       "('C5', 1, 147)                            1.0                      1.0   \n",
       "('C5', 1, 165)                            3.0                      3.0   \n",
       "('C5', 1, 17)                             3.0                      3.0   \n",
       "\n",
       "variable        0__agg_linear_trend__f_agg_\"min\"__chunk_len_5__attr_\"intercept\"  \\\n",
       "id                                                                                \n",
       "('C5', 1, 109)                                        1213.333333                 \n",
       "('C5', 1, 127)                                           0.000000                 \n",
       "('C5', 1, 147)                                        5672.000000                 \n",
       "('C5', 1, 165)                                        1195.666667                 \n",
       "('C5', 1, 17)                                            0.000000                 \n",
       "\n",
       "variable        0__quantile__q_0.2  \\\n",
       "id                                   \n",
       "('C5', 1, 109)              4552.0   \n",
       "('C5', 1, 127)                 0.0   \n",
       "('C5', 1, 147)              6575.0   \n",
       "('C5', 1, 165)                 0.0   \n",
       "('C5', 1, 17)                  0.0   \n",
       "\n",
       "variable        0__cwt_coefficients__widths_(2, 5, 10, 20)__coeff_1__w_20  \n",
       "id                                                                         \n",
       "('C5', 1, 109)                                       27708.723086          \n",
       "('C5', 1, 127)                                        7329.553775          \n",
       "('C5', 1, 147)                                       15040.871178          \n",
       "('C5', 1, 165)                                       12105.247565          \n",
       "('C5', 1, 17)                                         2530.853459          \n",
       "\n",
       "[5 rows x 43 columns]"
      ]
     },
     "execution_count": 31,
     "metadata": {},
     "output_type": "execute_result"
    }
   ],
   "source": [
    "# See what the extracted features look like\n",
    "irak1_features_filt.head()"
   ]
  },
  {
   "cell_type": "code",
   "execution_count": 32,
   "metadata": {
    "colab": {},
    "colab_type": "code",
    "id": "35SDhO4q_fdx"
   },
   "outputs": [],
   "source": [
    "# Now we can perform proper min-max normalization\n",
    "from sklearn.preprocessing import minmax_scale\n",
    "irak1_features_filt_norm = minmax_scale(irak1_features_filt)"
   ]
  },
  {
   "cell_type": "markdown",
   "metadata": {
    "colab": {
     "base_uri": "https://localhost:8080/",
     "height": 286
    },
    "colab_type": "code",
    "id": "ZxD8Tv08J75O",
    "outputId": "950bd8ae-0942-4a05-a5ff-68bec5970d26"
   },
   "source": [
    "Once again, run dimensionality reduction to see if the +speck and -speck groups now separate."
   ]
  },
  {
   "cell_type": "code",
   "execution_count": 33,
   "metadata": {
    "colab": {
     "base_uri": "https://localhost:8080/",
     "height": 286
    },
    "colab_type": "code",
    "id": "ZxD8Tv08J75O",
    "outputId": "950bd8ae-0942-4a05-a5ff-68bec5970d26"
   },
   "outputs": [
    {
     "data": {
      "text/plain": [
       "<matplotlib.collections.PathCollection at 0x1dc43ec4438>"
      ]
     },
     "execution_count": 33,
     "metadata": {},
     "output_type": "execute_result"
    },
    {
     "data": {
      "image/png": "[encoded data removed]",
      "text/plain": [
       "<Figure size 432x288 with 1 Axes>"
      ]
     },
     "metadata": {
      "needs_background": "light"
     },
     "output_type": "display_data"
    }
   ],
   "source": [
    "# Independent component analysis on extracted features\n",
    "ica = FastICA(n_components = 2)\n",
    "decomp = ica.fit_transform(irak1_features_filt_norm)  # Reconstruct signals\n",
    "mixing = ica.mixing_  # Get estimated mixing matrix\n",
    "\n",
    "plt.scatter(decomp[ascspeck_TF][:,0], decomp[ascspeck_TF][:,1], alpha = 0.5, color= 'b') \n",
    "plt.scatter(decomp[~ascspeck_TF][:,0], decomp[~ascspeck_TF][:,1], alpha = 0.5, color= 'r') "
   ]
  },
  {
   "cell_type": "code",
   "execution_count": 34,
   "metadata": {
    "colab": {
     "base_uri": "https://localhost:8080/",
     "height": 286
    },
    "colab_type": "code",
    "id": "RPmG4kToKIaC",
    "outputId": "94ad4966-ed85-4fb5-f713-325b68d980f7"
   },
   "outputs": [
    {
     "data": {
      "text/plain": [
       "<matplotlib.collections.PathCollection at 0x1dc47d70780>"
      ]
     },
     "execution_count": 34,
     "metadata": {},
     "output_type": "execute_result"
    },
    {
     "data": {
      "image/png": "[encoded data removed]",
      "text/plain": [
       "<Figure size 432x288 with 1 Axes>"
      ]
     },
     "metadata": {
      "needs_background": "light"
     },
     "output_type": "display_data"
    }
   ],
   "source": [
    "#T-SNE on extracted features\n",
    "tsne = TSNE(n_components = 2, perplexity = 80)\n",
    "decomp = tsne.fit_transform(irak1_features_filt_norm)\n",
    "\n",
    "plt.scatter(decomp[ascspeck_TF][:,0], decomp[ascspeck_TF][:,1], alpha = 0.5, color= 'b') \n",
    "plt.scatter(decomp[~ascspeck_TF][:,0], decomp[~ascspeck_TF][:,1], alpha = 0.5, color= 'r')"
   ]
  },
  {
   "cell_type": "markdown",
   "metadata": {
    "colab": {
     "base_uri": "https://localhost:8080/",
     "height": 685
    },
    "colab_type": "code",
    "id": "eFkoekYL4etK",
    "outputId": "e8e0ef43-b121-4455-ad18-91faa912764d"
   },
   "source": [
    "Still, the dimensionality reduction methods don't show a clear separation between the +speck and -speck groups.\n",
    "\n",
    "In light of that, proceed with clustering algorithms without further dimensionality reduction. I will use the same methods as used above for the original time-series data, including random under-sampling."
   ]
  },
  {
   "cell_type": "code",
   "execution_count": 36,
   "metadata": {
    "colab": {
     "base_uri": "https://localhost:8080/",
     "height": 685
    },
    "colab_type": "code",
    "id": "eFkoekYL4etK",
    "outputId": "e8e0ef43-b121-4455-ad18-91faa912764d"
   },
   "outputs": [
    {
     "name": "stdout",
     "output_type": "stream",
     "text": [
      "Confusion matrix, without normalization\n",
      "[[25 13]\n",
      " [ 4  5]]\n",
      "Confusion matrix, without normalization\n",
      "[[22 16]\n",
      " [ 6  3]]\n",
      "Confusion matrix, without normalization\n",
      "[[22 16]\n",
      " [ 2  7]]\n"
     ]
    },
    {
     "data": {
      "text/plain": [
       "<matplotlib.axes._subplots.AxesSubplot at 0x1dc472e0c18>"
      ]
     },
     "execution_count": 36,
     "metadata": {},
     "output_type": "execute_result"
    },
    {
     "data": {
      "image/png": "[encoded data removed]",
      "text/plain": [
       "<Figure size 432x288 with 2 Axes>"
      ]
     },
     "metadata": {
      "needs_background": "light"
     },
     "output_type": "display_data"
    },
    {
     "data": {
      "image/png": "[encoded data removed]",
      "text/plain": [
       "<Figure size 432x288 with 2 Axes>"
      ]
     },
     "metadata": {
      "needs_background": "light"
     },
     "output_type": "display_data"
    },
    {
     "data": {
      "image/png": "[encoded data removed]",
      "text/plain": [
       "<Figure size 432x288 with 2 Axes>"
      ]
     },
     "metadata": {
      "needs_background": "light"
     },
     "output_type": "display_data"
    }
   ],
   "source": [
    "# Create training and test sets\n",
    "X_train, X_test, y_train, y_test = train_test_split(irak1_features_filt_norm, ascspeck_TF, test_size=.25)\n",
    "\n",
    "# Set up pipelines with random under-sampling to equalize +speck and -speck groups for each algorithm\n",
    "us_knnc = make_pipeline(RandomUnderSampler(), KNeighborsClassifier(n_neighbors = 5))\n",
    "us_rfc = make_pipeline(RandomUnderSampler(), RandomForestClassifier(n_estimators = 10))\n",
    "us_svc = make_pipeline(RandomUnderSampler(), SVC(gamma = 'scale', kernel = 'rbf'))\n",
    "\n",
    "# Check confusion matrices for each classification algorithm to see if they're still calling FALSE for all samples\n",
    "# KNN\n",
    "us_knnc.fit(X_train, y_train)\n",
    "y_pred = us_knnc.predict(X_test)\n",
    "plot_confusion_matrix(y_test, y_pred, classes = ['False','True'])\n",
    "\n",
    "# Random forest\n",
    "us_rfc.fit(X_train, y_train)\n",
    "y_pred = us_rfc.predict(X_test)\n",
    "plot_confusion_matrix(y_test, y_pred, classes = ['False','True'])\n",
    "\n",
    "# Support vector\n",
    "us_svc.fit(X_train, y_train)\n",
    "y_pred = us_svc.predict(X_test)\n",
    "plot_confusion_matrix(y_test, y_pred, classes = ['False','True'])"
   ]
  },
  {
   "cell_type": "markdown",
   "metadata": {},
   "source": [
    "The confusion matrices suggest that feature extraction, relative to using the raw time series data, causes the classification algorithms to predict a larger proportion of test samples as +speck. Finally, cross-validate to get a sense of the overall performance of each algorithm:"
   ]
  },
  {
   "cell_type": "code",
   "execution_count": 39,
   "metadata": {},
   "outputs": [
    {
     "data": {
      "text/plain": [
       "(array([ 1.,  2.,  2.,  1.,  6.,  3., 23., 33., 25.,  4.]),\n",
       " array([0.29787234, 0.34042553, 0.38297872, 0.42553191, 0.46808511,\n",
       "        0.5106383 , 0.55319149, 0.59574468, 0.63829787, 0.68085106,\n",
       "        0.72340426]),\n",
       " <a list of 10 Patch objects>)"
      ]
     },
     "execution_count": 39,
     "metadata": {},
     "output_type": "execute_result"
    },
    {
     "data": {
      "image/png": "[encoded data removed]",
      "text/plain": [
       "<Figure size 432x288 with 1 Axes>"
      ]
     },
     "metadata": {
      "needs_background": "light"
     },
     "output_type": "display_data"
    }
   ],
   "source": [
    "my_cv = ShuffleSplit(n_splits = 100, test_size = 0.25)\n",
    "plt.figure()\n",
    "\n",
    "# KNN, in red\n",
    "cv_scores = cross_val_score(us_knnc, irak1_features_filt_norm, ascspeck_TF, cv = my_cv)\n",
    "plt.hist(cv_scores, alpha = 0.3, color= 'r')\n",
    "\n",
    "# Random forest, in green\n",
    "cv_scores = cross_val_score(us_rfc, irak1_features_filt_norm, ascspeck_TF, cv = my_cv)\n",
    "plt.hist(cv_scores, alpha = 0.3, color= 'g')\n",
    "\n",
    "# Support vector, in blue\n",
    "cv_scores = cross_val_score(us_svc, irak1_features_filt_norm, ascspeck_TF, cv = my_cv)\n",
    "plt.hist(cv_scores, alpha = 0.3, color= 'b')"
   ]
  },
  {
   "cell_type": "markdown",
   "metadata": {},
   "source": [
    "The performance of the three algorithms is much closer using the extracted features as opposed to the raw time-series data, where both KNN and random forest performed poorly. Here, their performance is comparable to the performance of the support vector model. However, none of the models exceeds 70% average performance. Further collection of higher-quality data and refinement of preprocessing is likely needed before a machine learning algorithm can more reliably predict ASC speck formation from IRAK1 cluster time series data.  "
   ]
  },
  {
   "cell_type": "code",
   "execution_count": null,
   "metadata": {},
   "outputs": [],
   "source": []
  }
 ],
 "metadata": {
  "colab": {
   "collapsed_sections": [],
   "name": "ASC_predictor.ipynb",
   "provenance": [],
   "version": "0.3.2"
  },
  "kernelspec": {
   "display_name": "Python 3",
   "language": "python",
   "name": "python3"
  },
  "language_info": {
   "codemirror_mode": {
    "name": "ipython",
    "version": 3
   },
   "file_extension": ".py",
   "mimetype": "text/x-python",
   "name": "python",
   "nbconvert_exporter": "python",
   "pygments_lexer": "ipython3",
   "version": "3.6.8"
  }
 },
 "nbformat": 4,
 "nbformat_minor": 2
}
